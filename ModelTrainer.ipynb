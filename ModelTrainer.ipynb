{
 "cells": [
  {
   "cell_type": "code",
   "execution_count": 94,
   "metadata": {},
   "outputs": [],
   "source": [
    "import pandas as pd\n",
    "import numpy as np\n",
    "import seaborn as sns\n",
    "import matplotlib.pyplot as plt\n",
    "import math\n",
    "from sklearn.preprocessing import LabelEncoder\n",
    "import lightgbm as lgb\n",
    "from sklearn.metrics import mean_squared_error\n",
    "from math import sqrt\n",
    "from catboost import CatBoostRegressor\n",
    "from sklearn.metrics import mean_absolute_error\n",
    "from sklearn.ensemble import ExtraTreesRegressor\n",
    "from sklearn.ensemble import RandomForestRegressor\n",
    "from xgboost import XGBRegressor\n",
    "from vecstack import stacking"
   ]
  },
  {
   "cell_type": "code",
   "execution_count": 95,
   "metadata": {},
   "outputs": [],
   "source": [
    "df = pd.read_csv(r'C:/Users/Venom/Desktop/694560_1215964_bundle_archive/preprocessed_data.csv')"
   ]
  },
  {
   "cell_type": "code",
   "execution_count": 96,
   "metadata": {},
   "outputs": [
    {
     "data": {
      "text/plain": [
       "(2758800, 12)"
      ]
     },
     "execution_count": 96,
     "metadata": {},
     "output_type": "execute_result"
    }
   ],
   "source": [
    "df.shape"
   ]
  },
  {
   "cell_type": "code",
   "execution_count": 97,
   "metadata": {},
   "outputs": [
    {
     "data": {
      "text/plain": [
       "Index(['Region', 'Country', 'City', 'Month', 'Day', 'Year', 'AvgTemperature',\n",
       "       'Latitude', 'Longitude', 'dist_from_north', 'dist_from_south', 'Date'],\n",
       "      dtype='object')"
      ]
     },
     "execution_count": 97,
     "metadata": {},
     "output_type": "execute_result"
    }
   ],
   "source": [
    "df.columns"
   ]
  },
  {
   "cell_type": "code",
   "execution_count": 98,
   "metadata": {},
   "outputs": [
    {
     "data": {
      "text/plain": [
       "('2019-12-31', '1995-01-01')"
      ]
     },
     "execution_count": 98,
     "metadata": {},
     "output_type": "execute_result"
    }
   ],
   "source": [
    "df.Date.max(),df.Date.min()"
   ]
  },
  {
   "cell_type": "code",
   "execution_count": 99,
   "metadata": {},
   "outputs": [
    {
     "data": {
      "text/plain": [
       "(2758800, 12)"
      ]
     },
     "execution_count": 99,
     "metadata": {},
     "output_type": "execute_result"
    }
   ],
   "source": [
    "df.shape"
   ]
  },
  {
   "cell_type": "code",
   "execution_count": 100,
   "metadata": {},
   "outputs": [
    {
     "data": {
      "text/plain": [
       "Region              object\n",
       "Country             object\n",
       "City                object\n",
       "Month                int64\n",
       "Day                  int64\n",
       "Year                 int64\n",
       "AvgTemperature     float64\n",
       "Latitude           float64\n",
       "Longitude          float64\n",
       "dist_from_north    float64\n",
       "dist_from_south    float64\n",
       "Date                object\n",
       "dtype: object"
      ]
     },
     "execution_count": 100,
     "metadata": {},
     "output_type": "execute_result"
    }
   ],
   "source": [
    "df.dtypes"
   ]
  },
  {
   "cell_type": "code",
   "execution_count": 101,
   "metadata": {},
   "outputs": [],
   "source": [
    "#yyyy-mm-dd"
   ]
  },
  {
   "cell_type": "code",
   "execution_count": 102,
   "metadata": {},
   "outputs": [],
   "source": [
    "df['Date'] = pd.to_datetime(df['Date'])"
   ]
  },
  {
   "cell_type": "code",
   "execution_count": 103,
   "metadata": {},
   "outputs": [
    {
     "data": {
      "text/plain": [
       "(Timestamp('1995-01-01 00:00:00'), Timestamp('2019-12-31 00:00:00'))"
      ]
     },
     "execution_count": 103,
     "metadata": {},
     "output_type": "execute_result"
    }
   ],
   "source": [
    "df.Date.quantile(0),df.Date.quantile(1)"
   ]
  },
  {
   "cell_type": "code",
   "execution_count": 104,
   "metadata": {},
   "outputs": [],
   "source": [
    "def train_test_split(data,column,train_start_date, train_end_date,test_start_date,test_end_date):\n",
    "    train_start_date = pd.to_datetime(train_start_date)\n",
    "    train_end_date =  pd.to_datetime(train_end_date)\n",
    "    test_start_date =  pd.to_datetime(test_start_date)\n",
    "    test_end_date = pd.to_datetime(test_end_date)\n",
    "    data[column] = pd.to_datetime(data[column])\n",
    "    train = data.loc[(data[column]>=train_start_date)&(data[column]<=train_end_date)]\n",
    "    test = data.loc[(data[column]>=test_start_date)&(data[column]<=test_end_date)]\n",
    "    train.reset_index(drop =True,inplace = True)\n",
    "    test.reset_index(drop =True,inplace = True)\n",
    "    return train,test\n",
    "def get_mape(actual, predicted):\n",
    "    y_true, y_pred = np.array(actual), np.array(predicted)\n",
    "    return np.round( np.mean(np.abs((actual - predicted)/ actual)) * 100, 2)"
   ]
  },
  {
   "cell_type": "code",
   "execution_count": 105,
   "metadata": {},
   "outputs": [],
   "source": [
    "df['prev_day'] = df.groupby('City').AvgTemperature.shift(1)\n",
    "df['prev_2day'] = df.groupby('City').AvgTemperature.shift(2)\n",
    "df['prev_3day'] = df.groupby('City').AvgTemperature.shift(3)\n",
    "df['prev_year'] = df.groupby('City').AvgTemperature.shift(365)\n",
    "df['prev_2year'] = df.groupby('City').AvgTemperature.shift(365*2)\n",
    "df['prev_3year'] = df.groupby('City').AvgTemperature.shift(365*3)"
   ]
  },
  {
   "cell_type": "code",
   "execution_count": 106,
   "metadata": {},
   "outputs": [],
   "source": [
    "df['Season'] = (df.Month%12 + 3)//3"
   ]
  },
  {
   "cell_type": "code",
   "execution_count": 107,
   "metadata": {},
   "outputs": [],
   "source": [
    "x_train,x_test = train_test_split(df[(df.Region!='North America')].copy().copy(),'Date','1995-01-01','2019-12-31','2020-01-01','2020-01-01')"
   ]
  },
  {
   "cell_type": "code",
   "execution_count": 108,
   "metadata": {},
   "outputs": [
    {
     "data": {
      "text/plain": [
       "((1250024, 19), (0, 19))"
      ]
     },
     "execution_count": 108,
     "metadata": {},
     "output_type": "execute_result"
    }
   ],
   "source": [
    "x_train.shape,x_test.shape"
   ]
  },
  {
   "cell_type": "code",
   "execution_count": 109,
   "metadata": {},
   "outputs": [],
   "source": [
    "cat = [i for i in x_train.columns if x_train[i].dtypes=='object']"
   ]
  },
  {
   "cell_type": "code",
   "execution_count": 110,
   "metadata": {},
   "outputs": [
    {
     "data": {
      "text/plain": [
       "['Region', 'Country', 'City']"
      ]
     },
     "execution_count": 110,
     "metadata": {},
     "output_type": "execute_result"
    }
   ],
   "source": [
    "cat"
   ]
  },
  {
   "cell_type": "code",
   "execution_count": 111,
   "metadata": {},
   "outputs": [],
   "source": [
    "region_temp_mapper = x_train.groupby('Region').AvgTemperature.mean().to_dict()\n",
    "country_temp_mapper =  x_train.groupby('Country').AvgTemperature.mean().to_dict()\n",
    "city_temp_mapper =  x_train.groupby('City').AvgTemperature.mean().to_dict()"
   ]
  },
  {
   "cell_type": "code",
   "execution_count": 112,
   "metadata": {},
   "outputs": [],
   "source": [
    "x_train['Region_enc'] = x_train['Region'].map(region_temp_mapper)\n",
    "x_test['Region_enc'] = x_test['Region'].map(region_temp_mapper)\n",
    "\n",
    "x_train['Country_enc'] = x_train['Country'].map(country_temp_mapper)\n",
    "x_test['Country_enc'] = x_test['Country'].map(country_temp_mapper)\n",
    "\n",
    "x_train['City_enc'] = x_train['City'].map(city_temp_mapper)\n",
    "x_test['City_enc'] = x_test['City'].map(city_temp_mapper)"
   ]
  },
  {
   "cell_type": "code",
   "execution_count": 113,
   "metadata": {},
   "outputs": [],
   "source": [
    "x_train['is_neg_percent'] = np.where(x_train.AvgTemperature<0,1,0)\n",
    "neg_mapper = x_train.groupby('City').apply(lambda x:x.is_neg_percent.mean()*100).to_dict()\n",
    "x_train['is_neg_percent'] = x_train['City'].map(neg_mapper)\n",
    "x_test['is_neg_percent'] = x_test['City'].map(neg_mapper)"
   ]
  },
  {
   "cell_type": "code",
   "execution_count": 114,
   "metadata": {},
   "outputs": [],
   "source": [
    "x_train['combined'] = x_train.Country.astype(str)+\"_\"+x_train.Month.astype(str)\n",
    "country_month_details = x_train.groupby(['combined']).AvgTemperature.mean().to_dict()\n",
    "x_train['country_month_mean'] = x_train.combined.map(country_month_details)\n",
    "\n",
    "x_test['combined'] = x_test.Country.astype(str)+\"_\"+x_test.Month.astype(str)\n",
    "x_test['country_month_mean'] = x_test.combined.map(country_month_details)\n"
   ]
  },
  {
   "cell_type": "code",
   "execution_count": 115,
   "metadata": {},
   "outputs": [],
   "source": [
    "x_train['combined'] = x_train.City.astype(str)+\"_\"+x_train.Season.astype(str)\n",
    "city_season_details = x_train.groupby(['combined']).AvgTemperature.mean().to_dict()\n",
    "x_train['city_season_mean'] = x_train.combined.map(city_season_details)\n",
    "\n",
    "x_test['combined'] = x_test.City.astype(str)+\"_\"+x_test.Season.astype(str)\n",
    "x_test['city_season_mean'] = x_test.combined.map(city_season_details)\n"
   ]
  },
  {
   "cell_type": "code",
   "execution_count": 116,
   "metadata": {},
   "outputs": [],
   "source": [
    "x_train['combined'] = x_train.City.astype(str)+\"_\"+x_train.Month.astype(str)\n",
    "city_month_details = x_train.groupby(['combined']).AvgTemperature.mean().to_dict()\n",
    "x_train['city_month_mean'] = x_train.combined.map(city_month_details)\n",
    "\n",
    "x_test['combined'] = x_test.City.astype(str)+\"_\"+x_test.Month.astype(str)\n",
    "x_test['city_month_mean'] = x_test.combined.map(city_month_details)\n"
   ]
  },
  {
   "cell_type": "code",
   "execution_count": 117,
   "metadata": {},
   "outputs": [],
   "source": [
    "x_train.drop('combined',inplace=True,axis = 1)\n",
    "x_test.drop('combined',inplace=True,axis = 1)"
   ]
  },
  {
   "cell_type": "code",
   "execution_count": 118,
   "metadata": {},
   "outputs": [],
   "source": [
    "x_train['days_rolling_mean'] = x_train.groupby('City')['AvgTemperature'].rolling(30).mean().reset_index(0,drop=True)\n",
    "rolling_mean_mapper = x_train.groupby('City').days_rolling_mean.mean().to_dict()\n",
    "x_test['days_rolling_mean'] = x_test['City'].map(rolling_mean_mapper)"
   ]
  },
  {
   "cell_type": "code",
   "execution_count": 119,
   "metadata": {},
   "outputs": [],
   "source": [
    "x_train['years_rolling_mean'] = x_train.groupby('City')['AvgTemperature'].rolling(365).mean().reset_index(0,drop=True)\n",
    "rolling_mean_mapper = x_train.groupby('City').years_rolling_mean.mean().to_dict()\n",
    "x_test['years_rolling_mean'] = x_test['City'].map(rolling_mean_mapper)"
   ]
  },
  {
   "cell_type": "code",
   "execution_count": 120,
   "metadata": {},
   "outputs": [],
   "source": [
    "y_train = x_train.AvgTemperature\n",
    "y_test = x_test.AvgTemperature"
   ]
  },
  {
   "cell_type": "code",
   "execution_count": 121,
   "metadata": {},
   "outputs": [
    {
     "data": {
      "text/plain": [
       "Index(['Region', 'Country', 'City', 'Month', 'Day', 'Year', 'AvgTemperature',\n",
       "       'Latitude', 'Longitude', 'dist_from_north', 'dist_from_south', 'Date',\n",
       "       'prev_day', 'prev_2day', 'prev_3day', 'prev_year', 'prev_2year',\n",
       "       'prev_3year', 'Season', 'Region_enc', 'Country_enc', 'City_enc',\n",
       "       'is_neg_percent', 'country_month_mean', 'city_season_mean',\n",
       "       'city_month_mean', 'days_rolling_mean', 'years_rolling_mean'],\n",
       "      dtype='object')"
      ]
     },
     "execution_count": 121,
     "metadata": {},
     "output_type": "execute_result"
    }
   ],
   "source": [
    "x_train.columns"
   ]
  },
  {
   "cell_type": "code",
   "execution_count": 122,
   "metadata": {},
   "outputs": [
    {
     "data": {
      "text/plain": [
       "11"
      ]
     },
     "execution_count": 122,
     "metadata": {},
     "output_type": "execute_result"
    }
   ],
   "source": [
    "selected = ['Month', 'Longitude', 'dist_from_north', 'prev_year','prev_2year','prev_3year','city_month_mean',\n",
    "            'days_rolling_mean','years_rolling_mean','is_neg_percent','city_season_mean']\n",
    "len(selected)"
   ]
  },
  {
   "cell_type": "code",
   "execution_count": 123,
   "metadata": {},
   "outputs": [
    {
     "data": {
      "text/plain": [
       "((1250024, 28), (0, 28), (1250024,), (0,))"
      ]
     },
     "execution_count": 123,
     "metadata": {},
     "output_type": "execute_result"
    }
   ],
   "source": [
    "x_train.shape,x_test.shape,y_train.shape,y_test.shape"
   ]
  },
  {
   "cell_type": "code",
   "execution_count": 124,
   "metadata": {},
   "outputs": [
    {
     "data": {
      "text/plain": [
       "(Timedelta('9130 days 00:00:00'), NaT)"
      ]
     },
     "execution_count": 124,
     "metadata": {},
     "output_type": "execute_result"
    }
   ],
   "source": [
    "x_train.Date.max()-x_train.Date.min(),x_test.Date.max()-x_test.Date.min()"
   ]
  },
  {
   "cell_type": "code",
   "execution_count": 125,
   "metadata": {},
   "outputs": [
    {
     "data": {
      "text/plain": [
       "Index(['Region', 'Country', 'City', 'Month', 'Day', 'Year', 'AvgTemperature',\n",
       "       'Latitude', 'Longitude', 'dist_from_north', 'dist_from_south', 'Date',\n",
       "       'prev_day', 'prev_2day', 'prev_3day', 'prev_year', 'prev_2year',\n",
       "       'prev_3year', 'Season', 'Region_enc', 'Country_enc', 'City_enc',\n",
       "       'is_neg_percent', 'country_month_mean', 'city_season_mean',\n",
       "       'city_month_mean', 'days_rolling_mean', 'years_rolling_mean'],\n",
       "      dtype='object')"
      ]
     },
     "execution_count": 125,
     "metadata": {},
     "output_type": "execute_result"
    }
   ],
   "source": [
    "x_train.columns"
   ]
  },
  {
   "cell_type": "code",
   "execution_count": 126,
   "metadata": {},
   "outputs": [
    {
     "data": {
      "text/plain": [
       "LGBMRegressor(learning_rate=0.01, max_depth=5, n_estimators=500)"
      ]
     },
     "execution_count": 126,
     "metadata": {},
     "output_type": "execute_result"
    }
   ],
   "source": [
    "model = lgb.LGBMRegressor(n_estimators=500, max_depth=5,learning_rate=0.01)\n",
    "x_train['weights'] = np.where(x_train.AvgTemperature<20,3,1)\n",
    "model.fit(x_train[selected].fillna(0,axis = 1),y_train,x_train['weights'] )"
   ]
  },
  {
   "cell_type": "code",
   "execution_count": 127,
   "metadata": {},
   "outputs": [
    {
     "data": {
      "image/png": "[encoded data removed]",
      "text/plain": [
       "<Figure size 576x720 with 1 Axes>"
      ]
     },
     "metadata": {
      "needs_background": "light"
     },
     "output_type": "display_data"
    }
   ],
   "source": [
    "feat_importance = pd.DataFrame()\n",
    "feat_importance[\"feature\"] = selected\n",
    "feat_importance[\"value\"] = model.feature_importances_\n",
    "feat_importance.sort_values(by='value', ascending=False, inplace=True)\n",
    "\n",
    "plt.figure(figsize=(8,10))\n",
    "ax = sns.barplot(y=\"feature\", x=\"value\", data=feat_importance)"
   ]
  },
  {
   "cell_type": "code",
   "execution_count": 128,
   "metadata": {},
   "outputs": [],
   "source": [
    "import joblib"
   ]
  },
  {
   "cell_type": "code",
   "execution_count": 129,
   "metadata": {},
   "outputs": [
    {
     "data": {
      "text/plain": [
       "['model.pkl']"
      ]
     },
     "execution_count": 129,
     "metadata": {},
     "output_type": "execute_result"
    }
   ],
   "source": [
    "joblib.dump(model,\"model.pkl\")"
   ]
  },
  {
   "cell_type": "code",
   "execution_count": null,
   "metadata": {},
   "outputs": [],
   "source": []
  },
  {
   "cell_type": "code",
   "execution_count": 130,
   "metadata": {},
   "outputs": [],
   "source": [
    "temp = {'City': 'Lansing', 'Date': '2020-07-08 00:00:00', 'Day': 8, 'Month': 7, 'Year': 2020, 'Season': 3}"
   ]
  },
  {
   "cell_type": "code",
   "execution_count": 131,
   "metadata": {},
   "outputs": [],
   "source": [
    "city_agg = pd.read_csv(r'C:\\Users\\Venom\\Desktop\\694560_1215964_bundle_archive\\agg\\city_agg.csv')\n",
    "city_month_agg = pd.read_csv(r'C:\\Users\\Venom\\Desktop\\694560_1215964_bundle_archive\\agg\\city_month_agg.csv')\n",
    "city_season_agg = pd.read_csv(r'C:\\Users\\Venom\\Desktop\\694560_1215964_bundle_archive\\agg\\city_season_agg.csv')\n",
    "ymd_agg = pd.read_csv(r'C:\\Users\\Venom\\Desktop\\694560_1215964_bundle_archive\\agg\\ymd_agg.csv')"
   ]
  },
  {
   "cell_type": "code",
   "execution_count": 132,
   "metadata": {},
   "outputs": [
    {
     "data": {
      "text/plain": [
       "66.5"
      ]
     },
     "execution_count": 132,
     "metadata": {},
     "output_type": "execute_result"
    }
   ],
   "source": [
    "ymd_agg[(ymd_agg.City==temp['City'])&(ymd_agg.Month==temp['Month'])&(ymd_agg.Day==temp['Day'])&(ymd_agg.Year==(temp['Year']-1))]['AvgTemperature'].iloc[0]"
   ]
  },
  {
   "cell_type": "code",
   "execution_count": 133,
   "metadata": {},
   "outputs": [
    {
     "data": {
      "text/plain": [
       "'Lansing'"
      ]
     },
     "execution_count": 133,
     "metadata": {},
     "output_type": "execute_result"
    }
   ],
   "source": [
    "temp['City']"
   ]
  },
  {
   "cell_type": "code",
   "execution_count": 138,
   "metadata": {},
   "outputs": [],
   "source": [
    "ze = ymd_agg[(ymd_agg.Year==2019)]"
   ]
  },
  {
   "cell_type": "code",
   "execution_count": 139,
   "metadata": {},
   "outputs": [
    {
     "data": {
      "text/html": [
       "<div>\n",
       "<style scoped>\n",
       "    .dataframe tbody tr th:only-of-type {\n",
       "        vertical-align: middle;\n",
       "    }\n",
       "\n",
       "    .dataframe tbody tr th {\n",
       "        vertical-align: top;\n",
       "    }\n",
       "\n",
       "    .dataframe thead th {\n",
       "        text-align: right;\n",
       "    }\n",
       "</style>\n",
       "<table border=\"1\" class=\"dataframe\">\n",
       "  <thead>\n",
       "    <tr style=\"text-align: right;\">\n",
       "      <th></th>\n",
       "      <th>City</th>\n",
       "      <th>Year</th>\n",
       "      <th>Month</th>\n",
       "      <th>Day</th>\n",
       "      <th>AvgTemperature</th>\n",
       "    </tr>\n",
       "  </thead>\n",
       "  <tbody>\n",
       "    <tr>\n",
       "      <th>2749998</th>\n",
       "      <td>Fairbanks</td>\n",
       "      <td>2019</td>\n",
       "      <td>1</td>\n",
       "      <td>12</td>\n",
       "      <td>-38.5</td>\n",
       "    </tr>\n",
       "  </tbody>\n",
       "</table>\n",
       "</div>"
      ],
      "text/plain": [
       "              City  Year  Month  Day  AvgTemperature\n",
       "2749998  Fairbanks  2019      1   12           -38.5"
      ]
     },
     "execution_count": 139,
     "metadata": {},
     "output_type": "execute_result"
    }
   ],
   "source": [
    "ze[(ze.AvgTemperature==ze.AvgTemperature.min())]"
   ]
  },
  {
   "cell_type": "code",
   "execution_count": null,
   "metadata": {},
   "outputs": [],
   "source": []
  }
 ],
 "metadata": {
  "kernelspec": {
   "display_name": "Python 3",
   "language": "python",
   "name": "python3"
  },
  "language_info": {
   "codemirror_mode": {
    "name": "ipython",
    "version": 3
   },
   "file_extension": ".py",
   "mimetype": "text/x-python",
   "name": "python",
   "nbconvert_exporter": "python",
   "pygments_lexer": "ipython3",
   "version": "3.7.3"
  }
 },
 "nbformat": 4,
 "nbformat_minor": 2
}
