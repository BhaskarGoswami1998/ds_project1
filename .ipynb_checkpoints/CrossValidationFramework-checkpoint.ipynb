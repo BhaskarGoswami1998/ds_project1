{
 "cells": [
  {
   "cell_type": "code",
   "execution_count": 14,
   "metadata": {
    "scrolled": true
   },
   "outputs": [],
   "source": [
    "import pandas as pd\n",
    "import numpy as np\n",
    "import seaborn as sns\n",
    "import matplotlib.pyplot as plt\n",
    "import math\n",
    "from sklearn.preprocessing import LabelEncoder\n",
    "import lightgbm as lgb\n",
    "from sklearn.metrics import mean_squared_error\n",
    "from math import sqrt\n",
    "from catboost import CatBoostRegressor\n",
    "from sklearn.metrics import mean_absolute_error\n",
    "from sklearn.ensemble import ExtraTreesRegressor\n",
    "from sklearn.ensemble import RandomForestRegressor\n",
    "from xgboost import XGBRegressor\n",
    "from vecstack import stacking\n",
    "from datetime import datetime  \n",
    "from datetime import timedelta  "
   ]
  },
  {
   "cell_type": "code",
   "execution_count": 69,
   "metadata": {
    "scrolled": true
   },
   "outputs": [],
   "source": [
    "df = pd.read_csv(r'C:/Users/Venom/Desktop/694560_1215964_bundle_archive/preprocessed_data.csv')"
   ]
  },
  {
   "cell_type": "code",
   "execution_count": 70,
   "metadata": {
    "scrolled": true
   },
   "outputs": [],
   "source": [
    "df['Date'] = pd.to_datetime(df['Date'])"
   ]
  },
  {
   "cell_type": "code",
   "execution_count": 71,
   "metadata": {
    "scrolled": true
   },
   "outputs": [],
   "source": [
    "def train_test_split(data,column,train_start_date, train_end_date,test_start_date,test_end_date):\n",
    "    train_start_date = pd.to_datetime(train_start_date)\n",
    "    train_end_date =  pd.to_datetime(train_end_date)\n",
    "    test_start_date =  pd.to_datetime(test_start_date)\n",
    "    test_end_date = pd.to_datetime(test_end_date)\n",
    "    data[column] = pd.to_datetime(data[column])\n",
    "    train = data.loc[(data[column]>=train_start_date)&(data[column]<=train_end_date)]\n",
    "    test = data.loc[(data[column]>=test_start_date)&(data[column]<=test_end_date)]\n",
    "    train.reset_index(drop =True,inplace = True)\n",
    "    test.reset_index(drop =True,inplace = True)\n",
    "    return train,test\n",
    "def get_mape(actual, predicted):\n",
    "    y_true, y_pred = np.array(actual), np.array(predicted)\n",
    "    return np.round( np.mean(np.abs((actual - predicted)/ actual)) * 100, 2)"
   ]
  },
  {
   "cell_type": "code",
   "execution_count": 72,
   "metadata": {
    "scrolled": true
   },
   "outputs": [],
   "source": [
    "df['prev_day'] = df.groupby('City').AvgTemperature.shift(1)\n",
    "df['prev_2day'] = df.groupby('City').AvgTemperature.shift(2)\n",
    "df['prev_3day'] = df.groupby('City').AvgTemperature.shift(3)\n",
    "df['prev_year'] = df.groupby('City').AvgTemperature.shift(365)\n",
    "df['prev_2year'] = df.groupby('City').AvgTemperature.shift(365*2)\n",
    "df['prev_3year'] = df.groupby('City').AvgTemperature.shift(365*3)"
   ]
  },
  {
   "cell_type": "code",
   "execution_count": 73,
   "metadata": {
    "scrolled": true
   },
   "outputs": [],
   "source": [
    "df['Season'] = (df.Month%12 + 3)//3"
   ]
  },
  {
   "cell_type": "code",
   "execution_count": 74,
   "metadata": {
    "scrolled": true
   },
   "outputs": [
    {
     "data": {
      "text/plain": [
       "(Timestamp('1995-01-01 00:00:00'), Timestamp('2019-12-31 00:00:00'))"
      ]
     },
     "execution_count": 74,
     "metadata": {},
     "output_type": "execute_result"
    }
   ],
   "source": [
    "df.Date.min(),df.Date.max()"
   ]
  },
  {
   "cell_type": "code",
   "execution_count": 75,
   "metadata": {
    "scrolled": true
   },
   "outputs": [
    {
     "data": {
      "text/plain": [
       "11"
      ]
     },
     "execution_count": 75,
     "metadata": {},
     "output_type": "execute_result"
    }
   ],
   "source": [
    "selected = ['Month', 'Longitude', 'dist_from_north', 'prev_year','prev_2year','prev_3year','city_month_mean',\n",
    "            'days_rolling_mean','years_rolling_mean','is_neg_percent','city_season_mean']\n",
    "len(selected)"
   ]
  },
  {
   "cell_type": "code",
   "execution_count": 76,
   "metadata": {
    "scrolled": true
   },
   "outputs": [],
   "source": [
    "df = df[(df.Region!='North America')]"
   ]
  },
  {
   "cell_type": "code",
   "execution_count": 92,
   "metadata": {
    "scrolled": true
   },
   "outputs": [
    {
     "data": {
      "text/plain": [
       "Index(['Region', 'Country', 'City', 'Month', 'Day', 'Year', 'AvgTemperature',\n",
       "       'Latitude', 'Longitude', 'dist_from_north', 'dist_from_south', 'Date',\n",
       "       'prev_day', 'prev_2day', 'prev_3day', 'prev_year', 'prev_2year',\n",
       "       'prev_3year', 'Season'],\n",
       "      dtype='object')"
      ]
     },
     "execution_count": 92,
     "metadata": {},
     "output_type": "execute_result"
    }
   ],
   "source": [
    "df.columns"
   ]
  },
  {
   "cell_type": "code",
   "execution_count": 93,
   "metadata": {
    "scrolled": true
   },
   "outputs": [],
   "source": [
    "def create_features(train,test):\n",
    "    train['days_rolling_mean'] = train.groupby('City')['AvgTemperature'].rolling(30).mean().reset_index(0,drop=True)\n",
    "    rolling_mean_mapper = train.groupby('City').days_rolling_mean.mean().to_dict()\n",
    "    test['days_rolling_mean'] = test['City'].map(rolling_mean_mapper)\n",
    "    \n",
    "    train['combined'] = train.City.astype(str)+\"_\"+train.Season.astype(str)\n",
    "    city_season_details = train.groupby(['combined']).AvgTemperature.mean().to_dict()\n",
    "    train['city_season_mean'] = train.combined.map(city_season_details)\n",
    "    test['combined'] = x_test.City.astype(str)+\"_\"+test.Season.astype(str)\n",
    "    test['city_season_mean'] = test.combined.map(city_season_details)\n",
    "    \n",
    "    train['years_rolling_mean'] = train.groupby('City')['AvgTemperature'].rolling(365).mean().reset_index(0,drop=True)\n",
    "    rolling_mean_mapper = train.groupby('City').days_rolling_mean.mean().to_dict()\n",
    "    test['years_rolling_mean'] = test['City'].map(rolling_mean_mapper)\n",
    "    \n",
    "    train['combined'] = train.City.astype(str)+\"_\"+train.Month.astype(str)\n",
    "    city_month_details = train.groupby(['combined']).AvgTemperature.mean().to_dict()\n",
    "    train['city_month_mean'] = train.combined.map(city_month_details)\n",
    "    test['combined'] = test.City.astype(str)+\"_\"+test.Month.astype(str)\n",
    "    test['city_month_mean'] = test.combined.map(city_month_details)\n",
    "\n",
    "    train['is_neg_percent'] = np.where(train.AvgTemperature<0,1,0)\n",
    "    neg_mapper = train.groupby('City').apply(lambda x:x.is_neg_percent.mean()*100).to_dict()\n",
    "    train['is_neg_percent'] = train['City'].map(neg_mapper)\n",
    "    test['is_neg_percent'] = test['City'].map(neg_mapper)\n",
    "\n",
    "    train.drop('combined',inplace=True,axis = 1)\n",
    "    test.drop('combined',inplace=True,axis = 1)\n",
    "    return train,test"
   ]
  },
  {
   "cell_type": "code",
   "execution_count": 97,
   "metadata": {
    "scrolled": false
   },
   "outputs": [
    {
     "name": "stdout",
     "output_type": "stream",
     "text": [
      "------------------------------------------------------------\n",
      "TRAIN FOLD  0 WITH YEARS  1995 - 1995 TEST FOLD WITH YEAR :  1996\n",
      "RMSE :  14.937834953612853\n",
      "MAE :  6.528572941128193\n",
      "SPOT ON % :  9.743202416918429\n",
      "+-3 % :  50.1073302591827\n",
      "+-5 % :  68.60192399427572\n",
      "+-7 % :  79.29122276991572\n",
      "+-10 % :  88.00882493242169\n",
      "------------------------------------------------------------\n",
      "------------------------------------------------------------\n",
      "TRAIN FOLD  1 WITH YEARS  1995 - 1996 TEST FOLD WITH YEAR :  1997\n",
      "RMSE :  7.238440413552516\n",
      "MAE :  4.603453713873122\n",
      "SPOT ON % :  9.159493569293124\n",
      "+-3 % :  48.34767952808042\n",
      "+-5 % :  67.74413611830093\n",
      "+-7 % :  79.70464896968238\n",
      "+-10 % :  89.7148819197817\n",
      "------------------------------------------------------------\n",
      "------------------------------------------------------------\n",
      "TRAIN FOLD  2 WITH YEARS  1995 - 1997 TEST FOLD WITH YEAR :  1998\n",
      "RMSE :  7.955965356412043\n",
      "MAE :  4.59005661599521\n",
      "SPOT ON % :  8.96944609520687\n",
      "+-3 % :  48.72230988339925\n",
      "+-5 % :  69.70224799688518\n",
      "+-7 % :  81.772167462448\n",
      "+-10 % :  91.37687247689502\n",
      "------------------------------------------------------------\n",
      "------------------------------------------------------------\n",
      "TRAIN FOLD  3 WITH YEARS  1995 - 1998 TEST FOLD WITH YEAR :  1999\n",
      "RMSE :  7.185646806881188\n",
      "MAE :  4.104738365693701\n",
      "SPOT ON % :  10.393459579885423\n",
      "+-3 % :  53.2622533418205\n",
      "+-5 % :  72.96109166136219\n",
      "+-7 % :  84.2596276257161\n",
      "+-10 % :  92.99212285168682\n",
      "------------------------------------------------------------\n",
      "------------------------------------------------------------\n",
      "TRAIN FOLD  4 WITH YEARS  1995 - 1999 TEST FOLD WITH YEAR :  2000\n",
      "RMSE :  5.146890828083472\n",
      "MAE :  3.739673944333603\n",
      "SPOT ON % :  10.907153008053056\n",
      "+-3 % :  54.214037580925314\n",
      "+-5 % :  73.52755408179378\n",
      "+-7 % :  84.77814621822202\n",
      "+-10 % :  93.59111005842414\n",
      "------------------------------------------------------------\n",
      "------------------------------------------------------------\n",
      "TRAIN FOLD  5 WITH YEARS  1995 - 2000 TEST FOLD WITH YEAR :  2001\n",
      "RMSE :  7.388975377152924\n",
      "MAE :  4.096813310107295\n",
      "SPOT ON % :  10.66070981532477\n",
      "+-3 % :  54.3607618093936\n",
      "+-5 % :  73.20957461148876\n",
      "+-7 % :  84.3208996899613\n",
      "+-10 % :  93.096343083826\n",
      "------------------------------------------------------------\n",
      "------------------------------------------------------------\n",
      "TRAIN FOLD  6 WITH YEARS  1995 - 2001 TEST FOLD WITH YEAR :  2002\n",
      "RMSE :  5.2265421885611545\n",
      "MAE :  3.7682443826250585\n",
      "SPOT ON % :  10.416463092888273\n",
      "+-3 % :  54.304363970372684\n",
      "+-5 % :  73.79272606460943\n",
      "+-7 % :  84.85606519572397\n",
      "+-10 % :  93.31040278293497\n",
      "------------------------------------------------------------\n",
      "------------------------------------------------------------\n",
      "TRAIN FOLD  7 WITH YEARS  1995 - 2002 TEST FOLD WITH YEAR :  2003\n",
      "RMSE :  5.390316864651205\n",
      "MAE :  3.8820382740999726\n",
      "SPOT ON % :  10.472154963680387\n",
      "+-3 % :  53.81941732406468\n",
      "+-5 % :  72.51230180426462\n",
      "+-7 % :  83.35936889791455\n",
      "+-10 % :  92.30844333359369\n",
      "------------------------------------------------------------\n",
      "------------------------------------------------------------\n",
      "TRAIN FOLD  8 WITH YEARS  1995 - 2003 TEST FOLD WITH YEAR :  2004\n",
      "RMSE :  5.038914903783514\n",
      "MAE :  3.68896045973951\n",
      "SPOT ON % :  10.799211907223533\n",
      "+-3 % :  54.65540448276535\n",
      "+-5 % :  73.68862532430798\n",
      "+-7 % :  85.05159666816222\n",
      "+-10 % :  93.98396504301348\n",
      "------------------------------------------------------------\n",
      "------------------------------------------------------------\n",
      "TRAIN FOLD  9 WITH YEARS  1995 - 2004 TEST FOLD WITH YEAR :  2005\n",
      "RMSE :  5.309202690082746\n",
      "MAE :  3.832156886132537\n",
      "SPOT ON % :  10.435885608856088\n",
      "+-3 % :  53.730396678966784\n",
      "+-5 % :  73.09540282902829\n",
      "+-7 % :  84.11746617466174\n",
      "+-10 % :  93.14460332103322\n",
      "------------------------------------------------------------\n",
      "------------------------------------------------------------\n",
      "TRAIN FOLD  10 WITH YEARS  1995 - 2005 TEST FOLD WITH YEAR :  2006\n",
      "RMSE :  5.391013100032772\n",
      "MAE :  3.8341285621862946\n",
      "SPOT ON % :  10.823570554292708\n",
      "+-3 % :  54.473392784286304\n",
      "+-5 % :  72.9498164014688\n",
      "+-7 % :  83.97155679897418\n",
      "+-10 % :  92.8639428027433\n",
      "------------------------------------------------------------\n",
      "------------------------------------------------------------\n",
      "TRAIN FOLD  11 WITH YEARS  1995 - 2006 TEST FOLD WITH YEAR :  2007\n",
      "RMSE :  5.2174929111002895\n",
      "MAE :  3.704245301993484\n",
      "SPOT ON % :  11.053438716527074\n",
      "+-3 % :  55.625024576304504\n",
      "+-5 % :  74.68050804136683\n",
      "+-7 % :  85.16181038889545\n",
      "+-10 % :  93.2759230859974\n",
      "------------------------------------------------------------\n",
      "------------------------------------------------------------\n",
      "TRAIN FOLD  12 WITH YEARS  1995 - 2007 TEST FOLD WITH YEAR :  2008\n",
      "RMSE :  5.061499239767543\n",
      "MAE :  3.6515678214011267\n",
      "SPOT ON % :  11.20165361529594\n",
      "+-3 % :  55.61275191795524\n",
      "+-5 % :  74.53790197559329\n",
      "+-7 % :  85.40565250228565\n",
      "+-10 % :  93.8863934491394\n",
      "------------------------------------------------------------\n",
      "------------------------------------------------------------\n",
      "TRAIN FOLD  13 WITH YEARS  1995 - 2008 TEST FOLD WITH YEAR :  2009\n",
      "RMSE :  4.876603614749438\n",
      "MAE :  3.514989596728654\n",
      "SPOT ON % :  11.336430934005355\n",
      "+-3 % :  57.310206331705785\n",
      "+-5 % :  76.21082060166955\n",
      "+-7 % :  86.48409198298944\n",
      "+-10 % :  94.47353914002205\n",
      "------------------------------------------------------------\n",
      "------------------------------------------------------------\n",
      "TRAIN FOLD  14 WITH YEARS  1995 - 2009 TEST FOLD WITH YEAR :  2010\n",
      "RMSE :  5.499661658518695\n",
      "MAE :  3.9540375353454147\n",
      "SPOT ON % :  10.002145546041467\n",
      "+-3 % :  52.9969377206499\n",
      "+-5 % :  72.36146599309524\n",
      "+-7 % :  83.16331506368371\n",
      "+-10 % :  91.96980631570734\n",
      "------------------------------------------------------------\n",
      "------------------------------------------------------------\n",
      "TRAIN FOLD  15 WITH YEARS  1995 - 2010 TEST FOLD WITH YEAR :  2011\n",
      "RMSE :  4.931886555566903\n",
      "MAE :  3.550286897430607\n",
      "SPOT ON % :  11.442698216493024\n",
      "+-3 % :  57.26450448329311\n",
      "+-5 % :  75.47432652500638\n",
      "+-7 % :  85.91245315596366\n",
      "+-10 % :  94.00788745658956\n",
      "------------------------------------------------------------\n",
      "------------------------------------------------------------\n",
      "TRAIN FOLD  16 WITH YEARS  1995 - 2011 TEST FOLD WITH YEAR :  2012\n",
      "RMSE :  5.520218690494175\n",
      "MAE :  3.7960944926206244\n",
      "SPOT ON % :  11.552353774620343\n",
      "+-3 % :  55.67240725589192\n",
      "+-5 % :  74.08952126279658\n",
      "+-7 % :  84.54231605835047\n",
      "+-10 % :  93.09532837101634\n",
      "------------------------------------------------------------\n",
      "------------------------------------------------------------\n",
      "TRAIN FOLD  17 WITH YEARS  1995 - 2012 TEST FOLD WITH YEAR :  2013\n",
      "RMSE :  5.1046430337950435\n",
      "MAE :  3.6788320950717552\n",
      "SPOT ON % :  11.370020816070815\n",
      "+-3 % :  55.65772720842344\n",
      "+-5 % :  74.13350579010125\n",
      "+-7 % :  84.90935914795578\n",
      "+-10 % :  93.20345182999536\n",
      "------------------------------------------------------------\n",
      "------------------------------------------------------------\n",
      "TRAIN FOLD  18 WITH YEARS  1995 - 2013 TEST FOLD WITH YEAR :  2014\n",
      "RMSE :  5.0069927713490845\n",
      "MAE :  3.5891274842371637\n",
      "SPOT ON % :  11.673736666529386\n",
      "+-3 % :  56.48037560232281\n",
      "+-5 % :  75.16988591903134\n",
      "+-7 % :  85.86137309007043\n",
      "+-10 % :  94.06325933857748\n",
      "------------------------------------------------------------\n",
      "------------------------------------------------------------\n",
      "TRAIN FOLD  19 WITH YEARS  1995 - 2014 TEST FOLD WITH YEAR :  2015\n",
      "RMSE :  5.007522299732497\n",
      "MAE :  3.641302226238223\n",
      "SPOT ON % :  10.759454750435586\n",
      "+-3 % :  55.19729425028185\n",
      "+-5 % :  75.02101055652352\n",
      "+-7 % :  85.78456492774419\n",
      "+-10 % :  94.08834682791841\n",
      "------------------------------------------------------------\n",
      "------------------------------------------------------------\n",
      "TRAIN FOLD  20 WITH YEARS  1995 - 2015 TEST FOLD WITH YEAR :  2016\n",
      "RMSE :  5.038477815676908\n",
      "MAE :  3.627578463772993\n",
      "SPOT ON % :  10.505610998385025\n",
      "+-3 % :  55.98575510373101\n",
      "+-5 % :  75.28469087746905\n",
      "+-7 % :  86.00356122406725\n",
      "+-10 % :  94.0867116650793\n",
      "------------------------------------------------------------\n",
      "------------------------------------------------------------\n",
      "TRAIN FOLD  21 WITH YEARS  1995 - 2016 TEST FOLD WITH YEAR :  2017\n",
      "RMSE :  4.859656084827918\n",
      "MAE :  3.5223300969175724\n",
      "SPOT ON % :  11.336224700536967\n",
      "+-3 % :  56.9062370921107\n",
      "+-5 % :  75.99545642296572\n",
      "+-7 % :  86.45187938868236\n",
      "+-10 % :  94.54357703428336\n",
      "------------------------------------------------------------\n"
     ]
    },
    {
     "name": "stdout",
     "output_type": "stream",
     "text": [
      "------------------------------------------------------------\n",
      "TRAIN FOLD  22 WITH YEARS  1995 - 2017 TEST FOLD WITH YEAR :  2018\n",
      "RMSE :  5.191253177839062\n",
      "MAE :  3.732016432130017\n",
      "SPOT ON % :  11.066868916698267\n",
      "+-3 % :  55.55976909788058\n",
      "+-5 % :  73.84864955968483\n",
      "+-7 % :  84.48573715922977\n",
      "+-10 % :  93.22462394134749\n",
      "------------------------------------------------------------\n",
      "------------------------------------------------------------\n",
      "TRAIN FOLD  23 WITH YEARS  1995 - 2018 TEST FOLD WITH YEAR :  2019\n",
      "RMSE :  4.908182669697434\n",
      "MAE :  3.6029966403576568\n",
      "SPOT ON % :  10.498205434968382\n",
      "+-3 % :  55.74260810117928\n",
      "+-5 % :  74.95299948726714\n",
      "+-7 % :  85.87848231071612\n",
      "+-10 % :  94.29371047684157\n",
      "------------------------------------------------------------\n"
     ]
    }
   ],
   "source": [
    "train_year = []\n",
    "for i in np.arange(df.Year.nunique()-1):\n",
    "    train_year.append(df.Year.unique()[i])\n",
    "    x_train = df[df.Year.isin(train_year)]\n",
    "    y_train = x_train.AvgTemperature\n",
    "    x_test = df[df.Year==(max(train_year))+1]\n",
    "    y_test = x_test.AvgTemperature\n",
    "    x_train,x_test = create_features(x_train.copy(),x_test.copy())\n",
    "    model = lgb.LGBMRegressor(n_estimators=500, max_depth=5,learning_rate=0.01)\n",
    "    x_train['weights'] = np.where(x_train.AvgTemperature<20,3,1)\n",
    "    model.fit(x_train[selected].fillna(0,axis = 1),y_train,x_train['weights'] )\n",
    "    pred = model.predict(x_test[selected])\n",
    "    print('-'*60)\n",
    "    print('TRAIN FOLD ',i,\"WITH YEARS \",min(train_year),\"-\",max(train_year),\"TEST FOLD WITH YEAR : \",(max(train_year))+1)\n",
    "    print(\"RMSE : \",sqrt(mean_squared_error(y_test, pred)))\n",
    "    print(\"MAE : \",mean_absolute_error(y_test, pred))\n",
    "    result = pd.DataFrame()\n",
    "    result = x_test\n",
    "    result['actual'] = y_test\n",
    "    result['predicted'] = pred\n",
    "    result['error'] = np.abs(result.actual-result.predicted)\n",
    "    print(\"SPOT ON % : \",result[result.predicted.astype(int)==result.actual.astype(int)].shape[0]/result.shape[0]*100)\n",
    "    print(\"+-3 % : \",result[result.error<=3].shape[0]/result.shape[0]*100)\n",
    "    print(\"+-5 % : \",result[result.error<=5].shape[0]/result.shape[0]*100)\n",
    "    print(\"+-7 % : \",result[result.error<=7].shape[0]/result.shape[0]*100)\n",
    "    print(\"+-10 % : \",result[result.error<=10].shape[0]/result.shape[0]*100)\n",
    "    print('-'*60)"
   ]
  },
  {
   "cell_type": "code",
   "execution_count": null,
   "metadata": {
    "scrolled": true
   },
   "outputs": [],
   "source": []
  },
  {
   "cell_type": "code",
   "execution_count": null,
   "metadata": {
    "scrolled": true
   },
   "outputs": [],
   "source": []
  }
 ],
 "metadata": {
  "kernelspec": {
   "display_name": "Python 3",
   "language": "python",
   "name": "python3"
  },
  "language_info": {
   "codemirror_mode": {
    "name": "ipython",
    "version": 3
   },
   "file_extension": ".py",
   "mimetype": "text/x-python",
   "name": "python",
   "nbconvert_exporter": "python",
   "pygments_lexer": "ipython3",
   "version": "3.7.3"
  }
 },
 "nbformat": 4,
 "nbformat_minor": 2
}
