{
 "cells": [
  {
   "cell_type": "code",
   "execution_count": 3,
   "metadata": {},
   "outputs": [
    {
     "name": "stderr",
     "output_type": "stream",
     "text": [
      "D:\\AnacondaNavigator\\lib\\site-packages\\statsmodels\\tools\\_testing.py:19: FutureWarning: pandas.util.testing is deprecated. Use the functions in the public API at pandas.testing instead.\n",
      "  import pandas.util.testing as tm\n"
     ]
    }
   ],
   "source": [
    "import pandas as pd\n",
    "import numpy as np\n",
    "import seaborn as sns\n",
    "import matplotlib.pyplot as plt\n",
    "import math\n",
    "from sklearn.preprocessing import LabelEncoder\n",
    "import lightgbm as lgb\n",
    "from sklearn.metrics import mean_squared_error\n",
    "from math import sqrt\n",
    "from catboost import CatBoostRegressor\n",
    "from sklearn.metrics import mean_absolute_error\n",
    "from sklearn.ensemble import ExtraTreesRegressor\n",
    "from sklearn.ensemble import RandomForestRegressor\n",
    "from xgboost import XGBRegressor\n",
    "from vecstack import stacking"
   ]
  },
  {
   "cell_type": "code",
   "execution_count": 230,
   "metadata": {},
   "outputs": [],
   "source": [
    "df = pd.read_csv(r'C:/Users/Venom/Desktop/694560_1215964_bundle_archive/preprocessed_data.csv')"
   ]
  },
  {
   "cell_type": "code",
   "execution_count": 231,
   "metadata": {},
   "outputs": [
    {
     "data": {
      "text/plain": [
       "(2758800, 12)"
      ]
     },
     "execution_count": 231,
     "metadata": {},
     "output_type": "execute_result"
    }
   ],
   "source": [
    "df.shape"
   ]
  },
  {
   "cell_type": "code",
   "execution_count": 232,
   "metadata": {},
   "outputs": [
    {
     "data": {
      "text/plain": [
       "Index(['Region', 'Country', 'City', 'Month', 'Day', 'Year', 'AvgTemperature',\n",
       "       'Latitude', 'Longitude', 'dist_from_north', 'dist_from_south', 'Date'],\n",
       "      dtype='object')"
      ]
     },
     "execution_count": 232,
     "metadata": {},
     "output_type": "execute_result"
    }
   ],
   "source": [
    "df.columns"
   ]
  },
  {
   "cell_type": "code",
   "execution_count": 233,
   "metadata": {},
   "outputs": [
    {
     "data": {
      "text/plain": [
       "('2019-12-31', '1995-01-01')"
      ]
     },
     "execution_count": 233,
     "metadata": {},
     "output_type": "execute_result"
    }
   ],
   "source": [
    "df.Date.max(),df.Date.min()"
   ]
  },
  {
   "cell_type": "code",
   "execution_count": 234,
   "metadata": {},
   "outputs": [
    {
     "data": {
      "text/plain": [
       "(2758800, 12)"
      ]
     },
     "execution_count": 234,
     "metadata": {},
     "output_type": "execute_result"
    }
   ],
   "source": [
    "df.shape"
   ]
  },
  {
   "cell_type": "code",
   "execution_count": 235,
   "metadata": {},
   "outputs": [
    {
     "data": {
      "text/plain": [
       "Region              object\n",
       "Country             object\n",
       "City                object\n",
       "Month                int64\n",
       "Day                  int64\n",
       "Year                 int64\n",
       "AvgTemperature     float64\n",
       "Latitude           float64\n",
       "Longitude          float64\n",
       "dist_from_north    float64\n",
       "dist_from_south    float64\n",
       "Date                object\n",
       "dtype: object"
      ]
     },
     "execution_count": 235,
     "metadata": {},
     "output_type": "execute_result"
    }
   ],
   "source": [
    "df.dtypes"
   ]
  },
  {
   "cell_type": "code",
   "execution_count": 236,
   "metadata": {},
   "outputs": [],
   "source": [
    "#yyyy-mm-dd"
   ]
  },
  {
   "cell_type": "code",
   "execution_count": 237,
   "metadata": {},
   "outputs": [],
   "source": [
    "df['Date'] = pd.to_datetime(df['Date'])"
   ]
  },
  {
   "cell_type": "code",
   "execution_count": 238,
   "metadata": {},
   "outputs": [
    {
     "data": {
      "text/plain": [
       "(Timestamp('1995-01-01 00:00:00'), Timestamp('2019-12-31 00:00:00'))"
      ]
     },
     "execution_count": 238,
     "metadata": {},
     "output_type": "execute_result"
    }
   ],
   "source": [
    "df.Date.quantile(0),df.Date.quantile(1)"
   ]
  },
  {
   "cell_type": "code",
   "execution_count": 239,
   "metadata": {},
   "outputs": [],
   "source": [
    "def train_test_split(data,column,train_start_date, train_end_date,test_start_date,test_end_date):\n",
    "    train_start_date = pd.to_datetime(train_start_date)\n",
    "    train_end_date =  pd.to_datetime(train_end_date)\n",
    "    test_start_date =  pd.to_datetime(test_start_date)\n",
    "    test_end_date = pd.to_datetime(test_end_date)\n",
    "    data[column] = pd.to_datetime(data[column])\n",
    "    train = data.loc[(data[column]>=train_start_date)&(data[column]<=train_end_date)]\n",
    "    test = data.loc[(data[column]>=test_start_date)&(data[column]<=test_end_date)]\n",
    "    train.reset_index(drop =True,inplace = True)\n",
    "    test.reset_index(drop =True,inplace = True)\n",
    "    return train,test\n",
    "def get_mape(actual, predicted):\n",
    "    y_true, y_pred = np.array(actual), np.array(predicted)\n",
    "    return np.round( np.mean(np.abs((actual - predicted)/ actual)) * 100, 2)"
   ]
  },
  {
   "cell_type": "code",
   "execution_count": 240,
   "metadata": {},
   "outputs": [],
   "source": [
    "df['prev_day'] = df.groupby('City').AvgTemperature.shift(1)\n",
    "df['prev_2day'] = df.groupby('City').AvgTemperature.shift(2)\n",
    "df['prev_3day'] = df.groupby('City').AvgTemperature.shift(3)\n",
    "df['prev_year'] = df.groupby('City').AvgTemperature.shift(365)\n",
    "df['prev_2year'] = df.groupby('City').AvgTemperature.shift(365*2)\n",
    "df['prev_3year'] = df.groupby('City').AvgTemperature.shift(365*3)"
   ]
  },
  {
   "cell_type": "code",
   "execution_count": 241,
   "metadata": {},
   "outputs": [],
   "source": [
    "df['Season'] = (df.Month%12 + 3)//3"
   ]
  },
  {
   "cell_type": "code",
   "execution_count": 242,
   "metadata": {},
   "outputs": [],
   "source": [
    "x_train,x_test = train_test_split(df[(df.Region!='North America')].copy(),'Date','1995-01-01','2018-12-30','2018-12-31','2019-12-31')"
   ]
  },
  {
   "cell_type": "code",
   "execution_count": 243,
   "metadata": {},
   "outputs": [
    {
     "data": {
      "text/plain": [
       "((1203084, 19), (46940, 19))"
      ]
     },
     "execution_count": 243,
     "metadata": {},
     "output_type": "execute_result"
    }
   ],
   "source": [
    "x_train.shape,x_test.shape"
   ]
  },
  {
   "cell_type": "code",
   "execution_count": 244,
   "metadata": {},
   "outputs": [],
   "source": [
    "cat = [i for i in x_train.columns if x_train[i].dtypes=='object']"
   ]
  },
  {
   "cell_type": "code",
   "execution_count": 245,
   "metadata": {},
   "outputs": [
    {
     "data": {
      "text/plain": [
       "['Region', 'Country', 'City']"
      ]
     },
     "execution_count": 245,
     "metadata": {},
     "output_type": "execute_result"
    }
   ],
   "source": [
    "cat"
   ]
  },
  {
   "cell_type": "code",
   "execution_count": 246,
   "metadata": {},
   "outputs": [],
   "source": [
    "region_temp_mapper = x_train.groupby('Region').AvgTemperature.mean().to_dict()\n",
    "country_temp_mapper =  x_train.groupby('Country').AvgTemperature.mean().to_dict()\n",
    "city_temp_mapper =  x_train.groupby('City').AvgTemperature.mean().to_dict()"
   ]
  },
  {
   "cell_type": "code",
   "execution_count": 247,
   "metadata": {},
   "outputs": [],
   "source": [
    "x_train['Region_enc'] = x_train['Region'].map(region_temp_mapper)\n",
    "x_test['Region_enc'] = x_test['Region'].map(region_temp_mapper)\n",
    "\n",
    "x_train['Country_enc'] = x_train['Country'].map(country_temp_mapper)\n",
    "x_test['Country_enc'] = x_test['Country'].map(country_temp_mapper)\n",
    "\n",
    "x_train['City_enc'] = x_train['City'].map(city_temp_mapper)\n",
    "x_test['City_enc'] = x_test['City'].map(city_temp_mapper)"
   ]
  },
  {
   "cell_type": "code",
   "execution_count": 248,
   "metadata": {},
   "outputs": [],
   "source": [
    "x_train['is_neg_percent'] = np.where(x_train.AvgTemperature<0,1,0)\n",
    "neg_mapper = x_train.groupby('City').apply(lambda x:x.is_neg_percent.mean()*100).to_dict()\n",
    "x_train['is_neg_percent'] = x_train['City'].map(neg_mapper)\n",
    "x_test['is_neg_percent'] = x_test['City'].map(neg_mapper)"
   ]
  },
  {
   "cell_type": "code",
   "execution_count": 249,
   "metadata": {},
   "outputs": [],
   "source": [
    "x_train['combined'] = x_train.Country.astype(str)+\"_\"+x_train.Month.astype(str)\n",
    "country_month_details = x_train.groupby(['combined']).AvgTemperature.mean().to_dict()\n",
    "x_train['country_month_mean'] = x_train.combined.map(country_month_details)\n",
    "\n",
    "x_test['combined'] = x_test.Country.astype(str)+\"_\"+x_test.Month.astype(str)\n",
    "x_test['country_month_mean'] = x_test.combined.map(country_month_details)\n"
   ]
  },
  {
   "cell_type": "code",
   "execution_count": 250,
   "metadata": {},
   "outputs": [],
   "source": [
    "x_train['combined'] = x_train.City.astype(str)+\"_\"+x_train.Season.astype(str)\n",
    "city_season_details = x_train.groupby(['combined']).AvgTemperature.mean().to_dict()\n",
    "x_train['city_season_mean'] = x_train.combined.map(city_season_details)\n",
    "\n",
    "x_test['combined'] = x_test.City.astype(str)+\"_\"+x_test.Season.astype(str)\n",
    "x_test['city_season_mean'] = x_test.combined.map(city_season_details)\n"
   ]
  },
  {
   "cell_type": "code",
   "execution_count": 251,
   "metadata": {},
   "outputs": [],
   "source": [
    "x_train['combined'] = x_train.City.astype(str)+\"_\"+x_train.Month.astype(str)\n",
    "city_month_details = x_train.groupby(['combined']).AvgTemperature.mean().to_dict()\n",
    "x_train['city_month_mean'] = x_train.combined.map(city_month_details)\n",
    "\n",
    "x_test['combined'] = x_test.City.astype(str)+\"_\"+x_test.Month.astype(str)\n",
    "x_test['city_month_mean'] = x_test.combined.map(city_month_details)\n"
   ]
  },
  {
   "cell_type": "code",
   "execution_count": 252,
   "metadata": {},
   "outputs": [],
   "source": [
    "x_train.drop('combined',inplace=True,axis = 1)\n",
    "x_test.drop('combined',inplace=True,axis = 1)"
   ]
  },
  {
   "cell_type": "code",
   "execution_count": 253,
   "metadata": {},
   "outputs": [],
   "source": [
    "x_train['days_rolling_mean'] = x_train.groupby('City')['AvgTemperature'].rolling(30).mean().reset_index(0,drop=True)\n",
    "rolling_mean_mapper = x_train.groupby('City').days_rolling_mean.mean().to_dict()\n",
    "x_test['days_rolling_mean'] = x_test['City'].map(rolling_mean_mapper)"
   ]
  },
  {
   "cell_type": "code",
   "execution_count": 254,
   "metadata": {},
   "outputs": [],
   "source": [
    "x_train['years_rolling_mean'] = x_train.groupby('City')['AvgTemperature'].rolling(365).mean().reset_index(0,drop=True)\n",
    "rolling_mean_mapper = x_train.groupby('City').days_rolling_mean.mean().to_dict()\n",
    "x_test['years_rolling_mean'] = x_test['City'].map(rolling_mean_mapper)"
   ]
  },
  {
   "cell_type": "code",
   "execution_count": 255,
   "metadata": {},
   "outputs": [],
   "source": [
    "y_train = x_train.AvgTemperature\n",
    "y_test = x_test.AvgTemperature"
   ]
  },
  {
   "cell_type": "code",
   "execution_count": 256,
   "metadata": {},
   "outputs": [
    {
     "data": {
      "text/plain": [
       "Index(['Region', 'Country', 'City', 'Month', 'Day', 'Year', 'AvgTemperature',\n",
       "       'Latitude', 'Longitude', 'dist_from_north', 'dist_from_south', 'Date',\n",
       "       'prev_day', 'prev_2day', 'prev_3day', 'prev_year', 'prev_2year',\n",
       "       'prev_3year', 'Season', 'Region_enc', 'Country_enc', 'City_enc',\n",
       "       'is_neg_percent', 'country_month_mean', 'city_season_mean',\n",
       "       'city_month_mean', 'days_rolling_mean', 'years_rolling_mean'],\n",
       "      dtype='object')"
      ]
     },
     "execution_count": 256,
     "metadata": {},
     "output_type": "execute_result"
    }
   ],
   "source": [
    "x_train.columns"
   ]
  },
  {
   "cell_type": "code",
   "execution_count": 257,
   "metadata": {},
   "outputs": [
    {
     "data": {
      "text/plain": [
       "14"
      ]
     },
     "execution_count": 257,
     "metadata": {},
     "output_type": "execute_result"
    }
   ],
   "source": [
    "selected = ['Month', 'Longitude', 'dist_from_north',\n",
    "       'prev_day','prev_2day', 'prev_3day', 'prev_year','prev_2year','prev_3year','city_month_mean',\n",
    "            'days_rolling_mean','years_rolling_mean','is_neg_percent','city_season_mean']\n",
    "len(selected)"
   ]
  },
  {
   "cell_type": "code",
   "execution_count": 258,
   "metadata": {},
   "outputs": [
    {
     "data": {
      "text/plain": [
       "((1203084, 28), (46940, 28), (1203084,), (46940,))"
      ]
     },
     "execution_count": 258,
     "metadata": {},
     "output_type": "execute_result"
    }
   ],
   "source": [
    "x_train.shape,x_test.shape,y_train.shape,y_test.shape"
   ]
  },
  {
   "cell_type": "code",
   "execution_count": 259,
   "metadata": {},
   "outputs": [
    {
     "data": {
      "text/plain": [
       "(Timedelta('8764 days 00:00:00'), Timedelta('365 days 00:00:00'))"
      ]
     },
     "execution_count": 259,
     "metadata": {},
     "output_type": "execute_result"
    }
   ],
   "source": [
    "x_train.Date.max()-x_train.Date.min(),x_test.Date.max()-x_test.Date.min()"
   ]
  },
  {
   "cell_type": "code",
   "execution_count": 260,
   "metadata": {},
   "outputs": [
    {
     "data": {
      "text/plain": [
       "Index(['Region', 'Country', 'City', 'Month', 'Day', 'Year', 'AvgTemperature',\n",
       "       'Latitude', 'Longitude', 'dist_from_north', 'dist_from_south', 'Date',\n",
       "       'prev_day', 'prev_2day', 'prev_3day', 'prev_year', 'prev_2year',\n",
       "       'prev_3year', 'Season', 'Region_enc', 'Country_enc', 'City_enc',\n",
       "       'is_neg_percent', 'country_month_mean', 'city_season_mean',\n",
       "       'city_month_mean', 'days_rolling_mean', 'years_rolling_mean'],\n",
       "      dtype='object')"
      ]
     },
     "execution_count": 260,
     "metadata": {},
     "output_type": "execute_result"
    }
   ],
   "source": [
    "x_train.columns"
   ]
  },
  {
   "cell_type": "code",
   "execution_count": 261,
   "metadata": {},
   "outputs": [
    {
     "data": {
      "text/plain": [
       "<matplotlib.axes._subplots.AxesSubplot at 0x24fe6a33e80>"
      ]
     },
     "execution_count": 261,
     "metadata": {},
     "output_type": "execute_result"
    },
    {
     "data": {
      "image/png": "[encoded data removed]",
      "text/plain": [
       "<Figure size 720x720 with 2 Axes>"
      ]
     },
     "metadata": {
      "needs_background": "light"
     },
     "output_type": "display_data"
    }
   ],
   "source": [
    "plt.figure(figsize=(10,10))\n",
    "matrix = np.triu(x_train[selected].corr())\n",
    "sns.heatmap(x_train[selected].corr(), annot=True, mask=matrix)"
   ]
  },
  {
   "cell_type": "code",
   "execution_count": null,
   "metadata": {},
   "outputs": [],
   "source": [
    "model = lgb.LGBMRegressor(n_estimators=500, max_depth=6,learning_rate=0.01)\n",
    "x_train['weights'] = np.where(x_train.AvgTemperature<10,3,1)\n",
    "model.fit(x_train[selected].fillna(0,axis = 1),y_train,x_train['weights'] )"
   ]
  },
  {
   "cell_type": "code",
   "execution_count": null,
   "metadata": {},
   "outputs": [],
   "source": [
    "feat_importance = pd.DataFrame()\n",
    "feat_importance[\"feature\"] = selected\n",
    "feat_importance[\"value\"] = model.feature_importances_\n",
    "feat_importance.sort_values(by='value', ascending=False, inplace=True)\n",
    "\n",
    "plt.figure(figsize=(8,10))\n",
    "ax = sns.barplot(y=\"feature\", x=\"value\", data=feat_importance)"
   ]
  },
  {
   "cell_type": "code",
   "execution_count": null,
   "metadata": {},
   "outputs": [],
   "source": [
    "pred = model.predict(x_test[selected])"
   ]
  },
  {
   "cell_type": "code",
   "execution_count": null,
   "metadata": {},
   "outputs": [],
   "source": [
    "rmse = sqrt(mean_squared_error(y_test, pred))\n",
    "print(\"RMSE : \",rmse)"
   ]
  },
  {
   "cell_type": "code",
   "execution_count": null,
   "metadata": {},
   "outputs": [],
   "source": [
    "print(\"MAE : \",mean_absolute_error(y_test, pred))"
   ]
  },
  {
   "cell_type": "code",
   "execution_count": null,
   "metadata": {},
   "outputs": [],
   "source": [
    "sns.distplot(pred, hist=False,color='b')\n",
    "sns.distplot(y_test, hist=False,color='r')"
   ]
  },
  {
   "cell_type": "code",
   "execution_count": null,
   "metadata": {},
   "outputs": [],
   "source": [
    "plt.figure(figsize=(30,15))\n",
    "sns.scatterplot(np.arange(y_test.shape[0]),y_test)\n",
    "sns.scatterplot(np.arange(y_test.shape[0]),pred)"
   ]
  },
  {
   "cell_type": "code",
   "execution_count": null,
   "metadata": {},
   "outputs": [],
   "source": [
    "result = pd.DataFrame()\n",
    "result = x_test\n",
    "result['actual'] = y_test\n",
    "result['predicted'] = pred"
   ]
  },
  {
   "cell_type": "code",
   "execution_count": null,
   "metadata": {},
   "outputs": [],
   "source": [
    "result['error'] = np.abs(result.actual-result.predicted)"
   ]
  },
  {
   "cell_type": "code",
   "execution_count": null,
   "metadata": {},
   "outputs": [],
   "source": [
    "sns.distplot(result.error)"
   ]
  },
  {
   "cell_type": "code",
   "execution_count": null,
   "metadata": {},
   "outputs": [],
   "source": [
    "print(\"SPOT ON % : \",result[result.predicted.astype(int)==result.actual.astype(int)].shape[0]/result.shape[0]*100)\n",
    "print(\"+-3 % : \",result[result.error<=3].shape[0]/result.shape[0]*100)\n",
    "print(\"+-5 % : \",result[result.error<=5].shape[0]/result.shape[0]*100)\n",
    "print(\"+-7 % : \",result[result.error<=7].shape[0]/result.shape[0]*100)\n",
    "print(\"+-10 % : \",result[result.error<=10].shape[0]/result.shape[0]*100)"
   ]
  },
  {
   "cell_type": "code",
   "execution_count": null,
   "metadata": {},
   "outputs": [],
   "source": []
  }
 ],
 "metadata": {
  "kernelspec": {
   "display_name": "Python 3",
   "language": "python",
   "name": "python3"
  },
  "language_info": {
   "codemirror_mode": {
    "name": "ipython",
    "version": 3
   },
   "file_extension": ".py",
   "mimetype": "text/x-python",
   "name": "python",
   "nbconvert_exporter": "python",
   "pygments_lexer": "ipython3",
   "version": "3.7.3"
  }
 },
 "nbformat": 4,
 "nbformat_minor": 2
}
