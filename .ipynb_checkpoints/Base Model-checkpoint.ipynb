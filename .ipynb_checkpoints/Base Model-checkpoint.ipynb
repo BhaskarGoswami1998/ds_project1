{
 "cells": [
  {
   "cell_type": "code",
   "execution_count": 1,
   "metadata": {},
   "outputs": [
    {
     "name": "stderr",
     "output_type": "stream",
     "text": [
      "D:\\AnacondaNavigator\\lib\\site-packages\\statsmodels\\tools\\_testing.py:19: FutureWarning: pandas.util.testing is deprecated. Use the functions in the public API at pandas.testing instead.\n",
      "  import pandas.util.testing as tm\n"
     ]
    }
   ],
   "source": [
    "import pandas as pd\n",
    "import numpy as np\n",
    "import seaborn as sns\n",
    "import matplotlib.pyplot as plt\n",
    "import math\n",
    "from sklearn.preprocessing import LabelEncoder\n",
    "import lightgbm as lgb\n",
    "from sklearn.metrics import mean_squared_error\n",
    "from math import sqrt\n",
    "from catboost import CatBoostRegressor"
   ]
  },
  {
   "cell_type": "code",
   "execution_count": 2,
   "metadata": {},
   "outputs": [],
   "source": [
    "df = pd.read_csv(r'C:/Users/Venom/Desktop/694560_1215964_bundle_archive/preprocessed_data.csv')"
   ]
  },
  {
   "cell_type": "code",
   "execution_count": 3,
   "metadata": {},
   "outputs": [
    {
     "data": {
      "text/plain": [
       "(2758800, 12)"
      ]
     },
     "execution_count": 3,
     "metadata": {},
     "output_type": "execute_result"
    }
   ],
   "source": [
    "df.shape"
   ]
  },
  {
   "cell_type": "code",
   "execution_count": 4,
   "metadata": {},
   "outputs": [
    {
     "data": {
      "text/plain": [
       "Index(['Region', 'Country', 'City', 'Month', 'Day', 'Year', 'AvgTemperature',\n",
       "       'Latitude', 'Longitude', 'dist_from_north', 'dist_from_south', 'Date'],\n",
       "      dtype='object')"
      ]
     },
     "execution_count": 4,
     "metadata": {},
     "output_type": "execute_result"
    }
   ],
   "source": [
    "df.columns"
   ]
  },
  {
   "cell_type": "code",
   "execution_count": 5,
   "metadata": {},
   "outputs": [
    {
     "data": {
      "text/plain": [
       "('2019-12-31', '1995-01-01')"
      ]
     },
     "execution_count": 5,
     "metadata": {},
     "output_type": "execute_result"
    }
   ],
   "source": [
    "df.Date.max(),df.Date.min()"
   ]
  },
  {
   "cell_type": "code",
   "execution_count": 6,
   "metadata": {},
   "outputs": [
    {
     "data": {
      "text/plain": [
       "(2758800, 12)"
      ]
     },
     "execution_count": 6,
     "metadata": {},
     "output_type": "execute_result"
    }
   ],
   "source": [
    "df.shape"
   ]
  },
  {
   "cell_type": "code",
   "execution_count": 7,
   "metadata": {},
   "outputs": [
    {
     "data": {
      "text/plain": [
       "Region              object\n",
       "Country             object\n",
       "City                object\n",
       "Month                int64\n",
       "Day                  int64\n",
       "Year                 int64\n",
       "AvgTemperature     float64\n",
       "Latitude           float64\n",
       "Longitude          float64\n",
       "dist_from_north    float64\n",
       "dist_from_south    float64\n",
       "Date                object\n",
       "dtype: object"
      ]
     },
     "execution_count": 7,
     "metadata": {},
     "output_type": "execute_result"
    }
   ],
   "source": [
    "df.dtypes"
   ]
  },
  {
   "cell_type": "code",
   "execution_count": 8,
   "metadata": {},
   "outputs": [],
   "source": [
    "#yyyy-mm-dd"
   ]
  },
  {
   "cell_type": "code",
   "execution_count": 9,
   "metadata": {},
   "outputs": [],
   "source": [
    "df['Date'] = pd.to_datetime(df['Date'])"
   ]
  },
  {
   "cell_type": "code",
   "execution_count": 10,
   "metadata": {},
   "outputs": [
    {
     "data": {
      "text/plain": [
       "(Timestamp('1995-01-01 00:00:00'), Timestamp('2019-12-31 00:00:00'))"
      ]
     },
     "execution_count": 10,
     "metadata": {},
     "output_type": "execute_result"
    }
   ],
   "source": [
    "df.Date.quantile(0),df.Date.quantile(1)"
   ]
  },
  {
   "cell_type": "code",
   "execution_count": 11,
   "metadata": {},
   "outputs": [],
   "source": [
    "def train_test_split(data,column,train_start_date, train_end_date,test_start_date,test_end_date):\n",
    "    train_start_date = pd.to_datetime(train_start_date)\n",
    "    train_end_date =  pd.to_datetime(train_end_date)\n",
    "    test_start_date =  pd.to_datetime(test_start_date)\n",
    "    test_end_date = pd.to_datetime(test_end_date)\n",
    "    data[column] = pd.to_datetime(data[column])\n",
    "    train = data.loc[(data[column]>=train_start_date)&(data[column]<=train_end_date)]\n",
    "    test = data.loc[(data[column]>=test_start_date)&(data[column]<=test_end_date)]\n",
    "    train.reset_index(drop =True,inplace = True)\n",
    "    test.reset_index(drop =True,inplace = True)\n",
    "    return train,test"
   ]
  },
  {
   "cell_type": "code",
   "execution_count": 43,
   "metadata": {},
   "outputs": [],
   "source": [
    "x_train,x_test = train_test_split(df.copy(),'Date','1995-01-01','2018-09-02','2018-09-03','2019-12-31')"
   ]
  },
  {
   "cell_type": "code",
   "execution_count": 44,
   "metadata": {},
   "outputs": [
    {
     "data": {
      "text/plain": [
       "((2621117, 12), (137683, 12))"
      ]
     },
     "execution_count": 44,
     "metadata": {},
     "output_type": "execute_result"
    }
   ],
   "source": [
    "x_train.shape,x_test.shape"
   ]
  },
  {
   "cell_type": "code",
   "execution_count": 45,
   "metadata": {},
   "outputs": [],
   "source": [
    "cat = [i for i in x_train.columns if x_train[i].dtypes=='object']"
   ]
  },
  {
   "cell_type": "code",
   "execution_count": 46,
   "metadata": {},
   "outputs": [
    {
     "data": {
      "text/plain": [
       "['Region', 'Country', 'City']"
      ]
     },
     "execution_count": 46,
     "metadata": {},
     "output_type": "execute_result"
    }
   ],
   "source": [
    "cat"
   ]
  },
  {
   "cell_type": "code",
   "execution_count": 47,
   "metadata": {},
   "outputs": [],
   "source": [
    "region_temp_mapper = x_train.groupby('Region').AvgTemperature.mean().to_dict()\n",
    "country_temp_mapper =  x_train.groupby('Country').AvgTemperature.mean().to_dict()\n",
    "city_temp_mapper =  x_train.groupby('City').AvgTemperature.mean().to_dict()"
   ]
  },
  {
   "cell_type": "code",
   "execution_count": 48,
   "metadata": {},
   "outputs": [],
   "source": [
    "x_train['Region_enc'] = x_train['Region'].map(region_temp_mapper)\n",
    "x_test['Region_enc'] = x_test['Region'].map(region_temp_mapper)\n",
    "\n",
    "x_train['Country_enc'] = x_train['Country'].map(country_temp_mapper)\n",
    "x_test['Country_enc'] = x_test['Country'].map(country_temp_mapper)\n",
    "\n",
    "x_train['City_enc'] = x_train['City'].map(city_temp_mapper)\n",
    "x_test['City_enc'] = x_test['City'].map(city_temp_mapper)"
   ]
  },
  {
   "cell_type": "code",
   "execution_count": 54,
   "metadata": {},
   "outputs": [],
   "source": [
    "x_train['combined'] = x_train.Region.astype(str)+\"_\"+x_train.Month.astype(str)\n",
    "reg_month_details = x_train.groupby(['combined']).AvgTemperature.mean().to_dict()\n",
    "x_train['region_month_mean'] = x_train.combined.map(reg_month_details)\n",
    "\n",
    "x_test['combined'] = x_test.Region.astype(str)+\"_\"+x_test.Month.astype(str)\n",
    "x_test['region_month_mean'] = x_test.combined.map(reg_month_details)\n"
   ]
  },
  {
   "cell_type": "code",
   "execution_count": 55,
   "metadata": {},
   "outputs": [
    {
     "data": {
      "text/plain": [
       "Region                       object\n",
       "Country                      object\n",
       "City                         object\n",
       "Month                         int64\n",
       "Day                           int64\n",
       "Year                          int64\n",
       "AvgTemperature              float64\n",
       "Latitude                    float64\n",
       "Longitude                   float64\n",
       "dist_from_north             float64\n",
       "dist_from_south             float64\n",
       "Date                 datetime64[ns]\n",
       "Region_enc                  float64\n",
       "Country_enc                 float64\n",
       "City_enc                    float64\n",
       "region_month_mean           float64\n",
       "combined                     object\n",
       "dtype: object"
      ]
     },
     "execution_count": 55,
     "metadata": {},
     "output_type": "execute_result"
    }
   ],
   "source": [
    "x_train.dtypes"
   ]
  },
  {
   "cell_type": "code",
   "execution_count": 56,
   "metadata": {},
   "outputs": [],
   "source": [
    "x_train.drop('combined',inplace=True,axis = 1)\n",
    "x_test.drop('combined',inplace=True,axis = 1)"
   ]
  },
  {
   "cell_type": "code",
   "execution_count": 59,
   "metadata": {},
   "outputs": [],
   "source": [
    "y_train = x_train.AvgTemperature\n",
    "y_test = x_test.AvgTemperature"
   ]
  },
  {
   "cell_type": "code",
   "execution_count": 156,
   "metadata": {},
   "outputs": [
    {
     "data": {
      "text/plain": [
       "6"
      ]
     },
     "execution_count": 156,
     "metadata": {},
     "output_type": "execute_result"
    }
   ],
   "source": [
    "selected = ['Month', 'Longitude','Latitude',\n",
    "       'Region_enc', 'City_enc', 'region_month_mean']\n",
    "len(selected)"
   ]
  },
  {
   "cell_type": "code",
   "execution_count": 157,
   "metadata": {},
   "outputs": [
    {
     "data": {
      "text/plain": [
       "((2621117, 16), (137683, 19), (2621117,), (137683,))"
      ]
     },
     "execution_count": 157,
     "metadata": {},
     "output_type": "execute_result"
    }
   ],
   "source": [
    "x_train.shape,x_test.shape,y_train.shape,y_test.shape"
   ]
  },
  {
   "cell_type": "code",
   "execution_count": 158,
   "metadata": {},
   "outputs": [
    {
     "data": {
      "text/plain": [
       "Index(['Region', 'Country', 'City', 'Month', 'Day', 'Year', 'AvgTemperature',\n",
       "       'Latitude', 'Longitude', 'dist_from_north', 'dist_from_south', 'Date',\n",
       "       'Region_enc', 'Country_enc', 'City_enc', 'region_month_mean'],\n",
       "      dtype='object')"
      ]
     },
     "execution_count": 158,
     "metadata": {},
     "output_type": "execute_result"
    }
   ],
   "source": [
    "x_train.columns"
   ]
  },
  {
   "cell_type": "code",
   "execution_count": 159,
   "metadata": {},
   "outputs": [
    {
     "data": {
      "text/plain": [
       "<matplotlib.axes._subplots.AxesSubplot at 0x1d6678c4c88>"
      ]
     },
     "execution_count": 159,
     "metadata": {},
     "output_type": "execute_result"
    },
    {
     "data": {
      "image/png": "[encoded data removed]",
      "text/plain": [
       "<Figure size 720x720 with 2 Axes>"
      ]
     },
     "metadata": {
      "needs_background": "light"
     },
     "output_type": "display_data"
    }
   ],
   "source": [
    "plt.figure(figsize=(10,10))\n",
    "matrix = np.triu(x_train[selected].corr())\n",
    "sns.heatmap(x_train[selected].corr(), annot=True, mask=matrix)"
   ]
  },
  {
   "cell_type": "code",
   "execution_count": 160,
   "metadata": {},
   "outputs": [
    {
     "data": {
      "text/plain": [
       "Month                 12\n",
       "Longitude            319\n",
       "Latitude             319\n",
       "Region_enc             7\n",
       "City_enc             319\n",
       "region_month_mean     84\n",
       "dtype: int64"
      ]
     },
     "execution_count": 160,
     "metadata": {},
     "output_type": "execute_result"
    }
   ],
   "source": [
    "x_train[selected].nunique()"
   ]
  },
  {
   "cell_type": "code",
   "execution_count": 161,
   "metadata": {},
   "outputs": [],
   "source": [
    "model = lgb.LGBMRegressor(n_estimators=300, max_depth=3,learning_rate=0.01)\n",
    "'''model = CatBoostRegressor(iterations=200,\n",
    "                          learning_rate=0.01,\n",
    "                          depth=4,cat_features=cat)'''\n",
    "model.fit(x_train[selected],y_train)\n",
    "pred = model.predict(x_test[selected])"
   ]
  },
  {
   "cell_type": "code",
   "execution_count": 162,
   "metadata": {},
   "outputs": [
    {
     "data": {
      "image/png": "[encoded data removed]",
      "text/plain": [
       "<Figure size 576x720 with 1 Axes>"
      ]
     },
     "metadata": {
      "needs_background": "light"
     },
     "output_type": "display_data"
    }
   ],
   "source": [
    "feat_importance = pd.DataFrame()\n",
    "feat_importance[\"feature\"] = selected\n",
    "feat_importance[\"value\"] = model.feature_importances_\n",
    "feat_importance.sort_values(by='value', ascending=False, inplace=True)\n",
    "\n",
    "plt.figure(figsize=(8,10))\n",
    "ax = sns.barplot(y=\"feature\", x=\"value\", data=feat_importance)"
   ]
  },
  {
   "cell_type": "code",
   "execution_count": 163,
   "metadata": {},
   "outputs": [
    {
     "name": "stdout",
     "output_type": "stream",
     "text": [
      "RMSE :  8.221155212536177\n"
     ]
    }
   ],
   "source": [
    "rmse = sqrt(mean_squared_error(y_test, pred))\n",
    "print(\"RMSE : \",rmse)"
   ]
  },
  {
   "cell_type": "code",
   "execution_count": 164,
   "metadata": {},
   "outputs": [
    {
     "data": {
      "text/plain": [
       "<matplotlib.axes._subplots.AxesSubplot at 0x1d6679f5c18>"
      ]
     },
     "execution_count": 164,
     "metadata": {},
     "output_type": "execute_result"
    },
    {
     "data": {
      "image/png": "[encoded data removed]",
      "text/plain": [
       "<Figure size 432x288 with 1 Axes>"
      ]
     },
     "metadata": {
      "needs_background": "light"
     },
     "output_type": "display_data"
    }
   ],
   "source": [
    "sns.distplot(pred)"
   ]
  },
  {
   "cell_type": "code",
   "execution_count": 165,
   "metadata": {},
   "outputs": [],
   "source": [
    "result = pd.DataFrame()\n",
    "result = x_test\n",
    "result['actual'] = y_test\n",
    "result['predicted'] = pred"
   ]
  },
  {
   "cell_type": "code",
   "execution_count": 166,
   "metadata": {},
   "outputs": [],
   "source": [
    "result['error'] = np.abs(result.actual-result.predicted)"
   ]
  },
  {
   "cell_type": "code",
   "execution_count": 167,
   "metadata": {},
   "outputs": [
    {
     "data": {
      "text/plain": [
       "<matplotlib.axes._subplots.AxesSubplot at 0x1d667ce7908>"
      ]
     },
     "execution_count": 167,
     "metadata": {},
     "output_type": "execute_result"
    },
    {
     "data": {
      "image/png": "[encoded data removed]",
      "text/plain": [
       "<Figure size 432x288 with 1 Axes>"
      ]
     },
     "metadata": {
      "needs_background": "light"
     },
     "output_type": "display_data"
    }
   ],
   "source": [
    "sns.distplot(result.error)"
   ]
  },
  {
   "cell_type": "code",
   "execution_count": 168,
   "metadata": {},
   "outputs": [
    {
     "name": "stdout",
     "output_type": "stream",
     "text": [
      "SPOT ON % :  5.09794237487562\n",
      "+-3 % :  30.050187750121655\n",
      "+-7 % :  63.28232243632112\n",
      "+-10 % :  80.24156940217748\n"
     ]
    }
   ],
   "source": [
    "print(\"SPOT ON % : \",result[result.predicted.astype(int)==result.actual.astype(int)].shape[0]/result.shape[0]*100)\n",
    "print(\"+-3 % : \",result[result.error<=3].shape[0]/result.shape[0]*100)\n",
    "print(\"+-7 % : \",result[result.error<=7].shape[0]/result.shape[0]*100)\n",
    "print(\"+-10 % : \",result[result.error<=10].shape[0]/result.shape[0]*100)"
   ]
  },
  {
   "cell_type": "code",
   "execution_count": null,
   "metadata": {},
   "outputs": [],
   "source": []
  }
 ],
 "metadata": {
  "kernelspec": {
   "display_name": "Python 3",
   "language": "python",
   "name": "python3"
  },
  "language_info": {
   "codemirror_mode": {
    "name": "ipython",
    "version": 3
   },
   "file_extension": ".py",
   "mimetype": "text/x-python",
   "name": "python",
   "nbconvert_exporter": "python",
   "pygments_lexer": "ipython3",
   "version": "3.7.3"
  }
 },
 "nbformat": 4,
 "nbformat_minor": 2
}
