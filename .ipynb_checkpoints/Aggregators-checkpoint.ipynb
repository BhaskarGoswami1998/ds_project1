{
 "cells": [
  {
   "cell_type": "code",
   "execution_count": 47,
   "metadata": {},
   "outputs": [],
   "source": [
    "import pandas as pd\n",
    "import numpy as np\n",
    "import seaborn as sns\n",
    "import matplotlib.pyplot as plt\n",
    "import math"
   ]
  },
  {
   "cell_type": "code",
   "execution_count": 48,
   "metadata": {},
   "outputs": [],
   "source": [
    "df = pd.read_csv(r'C:/Users/Venom/Desktop/694560_1215964_bundle_archive/preprocessed_data.csv')"
   ]
  },
  {
   "cell_type": "code",
   "execution_count": 49,
   "metadata": {},
   "outputs": [
    {
     "data": {
      "text/html": [
       "<div>\n",
       "<style scoped>\n",
       "    .dataframe tbody tr th:only-of-type {\n",
       "        vertical-align: middle;\n",
       "    }\n",
       "\n",
       "    .dataframe tbody tr th {\n",
       "        vertical-align: top;\n",
       "    }\n",
       "\n",
       "    .dataframe thead th {\n",
       "        text-align: right;\n",
       "    }\n",
       "</style>\n",
       "<table border=\"1\" class=\"dataframe\">\n",
       "  <thead>\n",
       "    <tr style=\"text-align: right;\">\n",
       "      <th></th>\n",
       "      <th>Region</th>\n",
       "      <th>Country</th>\n",
       "      <th>City</th>\n",
       "      <th>Month</th>\n",
       "      <th>Day</th>\n",
       "      <th>Year</th>\n",
       "      <th>AvgTemperature</th>\n",
       "      <th>Latitude</th>\n",
       "      <th>Longitude</th>\n",
       "      <th>dist_from_north</th>\n",
       "      <th>dist_from_south</th>\n",
       "      <th>Date</th>\n",
       "    </tr>\n",
       "  </thead>\n",
       "  <tbody>\n",
       "    <tr>\n",
       "      <th>0</th>\n",
       "      <td>Africa</td>\n",
       "      <td>Algeria</td>\n",
       "      <td>Algiers</td>\n",
       "      <td>1</td>\n",
       "      <td>1</td>\n",
       "      <td>1995</td>\n",
       "      <td>64.2</td>\n",
       "      <td>36.775361</td>\n",
       "      <td>3.060188</td>\n",
       "      <td>5681.128030</td>\n",
       "      <td>14295.190776</td>\n",
       "      <td>1995-01-01</td>\n",
       "    </tr>\n",
       "    <tr>\n",
       "      <th>1</th>\n",
       "      <td>Asia</td>\n",
       "      <td>India</td>\n",
       "      <td>Bombay (Mumbai)</td>\n",
       "      <td>1</td>\n",
       "      <td>1</td>\n",
       "      <td>1995</td>\n",
       "      <td>71.8</td>\n",
       "      <td>18.938771</td>\n",
       "      <td>72.835335</td>\n",
       "      <td>6866.138885</td>\n",
       "      <td>11252.200175</td>\n",
       "      <td>1995-01-01</td>\n",
       "    </tr>\n",
       "    <tr>\n",
       "      <th>2</th>\n",
       "      <td>North America</td>\n",
       "      <td>US</td>\n",
       "      <td>Dallas Ft Worth</td>\n",
       "      <td>1</td>\n",
       "      <td>1</td>\n",
       "      <td>1995</td>\n",
       "      <td>40.5</td>\n",
       "      <td>32.737242</td>\n",
       "      <td>-97.232572</td>\n",
       "      <td>7403.248687</td>\n",
       "      <td>14586.710516</td>\n",
       "      <td>1995-01-01</td>\n",
       "    </tr>\n",
       "    <tr>\n",
       "      <th>3</th>\n",
       "      <td>North America</td>\n",
       "      <td>US</td>\n",
       "      <td>Lansing</td>\n",
       "      <td>1</td>\n",
       "      <td>1</td>\n",
       "      <td>1995</td>\n",
       "      <td>30.2</td>\n",
       "      <td>42.733771</td>\n",
       "      <td>-84.555380</td>\n",
       "      <td>6246.804384</td>\n",
       "      <td>15777.536911</td>\n",
       "      <td>1995-01-01</td>\n",
       "    </tr>\n",
       "    <tr>\n",
       "      <th>4</th>\n",
       "      <td>Middle East</td>\n",
       "      <td>Turkey</td>\n",
       "      <td>Ankara</td>\n",
       "      <td>1</td>\n",
       "      <td>1</td>\n",
       "      <td>1995</td>\n",
       "      <td>46.2</td>\n",
       "      <td>39.920777</td>\n",
       "      <td>32.854067</td>\n",
       "      <td>4854.033455</td>\n",
       "      <td>14110.385731</td>\n",
       "      <td>1995-01-01</td>\n",
       "    </tr>\n",
       "  </tbody>\n",
       "</table>\n",
       "</div>"
      ],
      "text/plain": [
       "          Region  Country             City  Month  Day  Year  AvgTemperature  \\\n",
       "0         Africa  Algeria          Algiers      1    1  1995            64.2   \n",
       "1           Asia    India  Bombay (Mumbai)      1    1  1995            71.8   \n",
       "2  North America       US  Dallas Ft Worth      1    1  1995            40.5   \n",
       "3  North America       US          Lansing      1    1  1995            30.2   \n",
       "4    Middle East   Turkey           Ankara      1    1  1995            46.2   \n",
       "\n",
       "    Latitude  Longitude  dist_from_north  dist_from_south        Date  \n",
       "0  36.775361   3.060188      5681.128030     14295.190776  1995-01-01  \n",
       "1  18.938771  72.835335      6866.138885     11252.200175  1995-01-01  \n",
       "2  32.737242 -97.232572      7403.248687     14586.710516  1995-01-01  \n",
       "3  42.733771 -84.555380      6246.804384     15777.536911  1995-01-01  \n",
       "4  39.920777  32.854067      4854.033455     14110.385731  1995-01-01  "
      ]
     },
     "execution_count": 49,
     "metadata": {},
     "output_type": "execute_result"
    }
   ],
   "source": [
    "df.head()"
   ]
  },
  {
   "cell_type": "code",
   "execution_count": 50,
   "metadata": {},
   "outputs": [],
   "source": [
    "city_agg = pd.DataFrame()"
   ]
  },
  {
   "cell_type": "code",
   "execution_count": 51,
   "metadata": {},
   "outputs": [],
   "source": [
    "city_agg['City'] = df.City.unique()"
   ]
  },
  {
   "cell_type": "code",
   "execution_count": 52,
   "metadata": {},
   "outputs": [],
   "source": [
    "city_agg['Longitude'] = city_agg['City'].map(df.groupby('City').apply(lambda x:x.Longitude.unique()[0]).to_dict())"
   ]
  },
  {
   "cell_type": "code",
   "execution_count": 53,
   "metadata": {},
   "outputs": [],
   "source": [
    "city_agg['dist_from_north'] = city_agg['City'].map(df.groupby('City').apply(lambda x:x.dist_from_north.unique()[0]).to_dict())"
   ]
  },
  {
   "cell_type": "code",
   "execution_count": 54,
   "metadata": {},
   "outputs": [],
   "source": [
    "df['days_rolling_mean'] = df.groupby('City')['AvgTemperature'].rolling(30).mean().reset_index(0,drop=True)\n",
    "rolling_mean_mapper = df.groupby('City').days_rolling_mean.mean().to_dict()\n",
    "city_agg['days_rolling_mean'] = city_agg['City'].map(rolling_mean_mapper)"
   ]
  },
  {
   "cell_type": "code",
   "execution_count": 55,
   "metadata": {},
   "outputs": [],
   "source": [
    "df['years_rolling_mean'] = df.groupby('City')['AvgTemperature'].rolling(365).mean().reset_index(0,drop=True)\n",
    "rolling_mean_mapper = df.groupby('City').years_rolling_mean.mean().to_dict()\n",
    "city_agg['years_rolling_mean'] = city_agg['City'].map(rolling_mean_mapper)"
   ]
  },
  {
   "cell_type": "code",
   "execution_count": 56,
   "metadata": {},
   "outputs": [],
   "source": [
    "df['is_neg_percent'] = np.where(df.AvgTemperature<0,1,0)\n",
    "neg_mapper = df.groupby('City').apply(lambda x:x.is_neg_percent.mean()*100).to_dict()\n",
    "city_agg['is_neg_percent'] = city_agg['City'].map(neg_mapper)"
   ]
  },
  {
   "cell_type": "code",
   "execution_count": 57,
   "metadata": {},
   "outputs": [],
   "source": [
    "ymd_agg = pd.DataFrame()"
   ]
  },
  {
   "cell_type": "code",
   "execution_count": 58,
   "metadata": {},
   "outputs": [],
   "source": [
    "ymd_agg = df[['City','Year','Month','Day','AvgTemperature']]"
   ]
  },
  {
   "cell_type": "code",
   "execution_count": 59,
   "metadata": {},
   "outputs": [],
   "source": [
    "df['Season'] = (df.Month%12 + 3)//3"
   ]
  },
  {
   "cell_type": "code",
   "execution_count": 67,
   "metadata": {},
   "outputs": [],
   "source": [
    "df['combined'] = df.City.astype(str)+\"_\"+df.Season.astype(str)\n",
    "city_season_details = df.groupby(['combined']).AvgTemperature.mean().to_dict()"
   ]
  },
  {
   "cell_type": "code",
   "execution_count": 68,
   "metadata": {},
   "outputs": [],
   "source": [
    "outlist = list(set(zip(df.City, df.Season)))\n",
    "city_season_agg = pd.DataFrame(data=outlist, columns=['City','Season'])"
   ]
  },
  {
   "cell_type": "code",
   "execution_count": 70,
   "metadata": {},
   "outputs": [],
   "source": [
    "city_season_agg['combined'] = city_season_agg.City.astype(str)+\"_\"+city_season_agg.Season.astype(str)\n",
    "city_season_agg['city_season_mean'] = city_season_agg.combined.map(city_season_details)"
   ]
  },
  {
   "cell_type": "code",
   "execution_count": 73,
   "metadata": {},
   "outputs": [],
   "source": [
    "city_season_agg.drop('combined',axis = 1, inplace=True)"
   ]
  },
  {
   "cell_type": "code",
   "execution_count": 76,
   "metadata": {},
   "outputs": [],
   "source": [
    "df['combined'] = df.City.astype(str)+\"_\"+df.Month.astype(str)\n",
    "city_month_details = df.groupby(['combined']).AvgTemperature.mean().to_dict()\n",
    "outlist = list(set(zip(df.City, df.Month)))\n",
    "city_month_agg = pd.DataFrame(data=outlist, columns=['City','Month'])\n",
    "city_month_agg['combined'] = city_month_agg.City.astype(str)+\"_\"+city_month_agg.Month.astype(str)\n",
    "city_month_agg['city_month_mean'] = city_month_agg.combined.map(city_month_details)\n",
    "city_month_agg.drop('combined',axis = 1, inplace=True)"
   ]
  },
  {
   "cell_type": "code",
   "execution_count": 80,
   "metadata": {},
   "outputs": [
    {
     "data": {
      "text/html": [
       "<div>\n",
       "<style scoped>\n",
       "    .dataframe tbody tr th:only-of-type {\n",
       "        vertical-align: middle;\n",
       "    }\n",
       "\n",
       "    .dataframe tbody tr th {\n",
       "        vertical-align: top;\n",
       "    }\n",
       "\n",
       "    .dataframe thead th {\n",
       "        text-align: right;\n",
       "    }\n",
       "</style>\n",
       "<table border=\"1\" class=\"dataframe\">\n",
       "  <thead>\n",
       "    <tr style=\"text-align: right;\">\n",
       "      <th></th>\n",
       "      <th>City</th>\n",
       "      <th>Longitude</th>\n",
       "      <th>dist_from_north</th>\n",
       "      <th>days_rolling_mean</th>\n",
       "      <th>years_rolling_mean</th>\n",
       "      <th>is_neg_percent</th>\n",
       "    </tr>\n",
       "  </thead>\n",
       "  <tbody>\n",
       "    <tr>\n",
       "      <th>0</th>\n",
       "      <td>Algiers</td>\n",
       "      <td>3.060188</td>\n",
       "      <td>5681.128030</td>\n",
       "      <td>64.486704</td>\n",
       "      <td>64.463481</td>\n",
       "      <td>0.000000</td>\n",
       "    </tr>\n",
       "    <tr>\n",
       "      <th>1</th>\n",
       "      <td>Bombay (Mumbai)</td>\n",
       "      <td>72.835335</td>\n",
       "      <td>6866.138885</td>\n",
       "      <td>82.124008</td>\n",
       "      <td>82.120903</td>\n",
       "      <td>0.000000</td>\n",
       "    </tr>\n",
       "    <tr>\n",
       "      <th>2</th>\n",
       "      <td>Dallas Ft Worth</td>\n",
       "      <td>-97.232572</td>\n",
       "      <td>7403.248687</td>\n",
       "      <td>67.120178</td>\n",
       "      <td>67.116506</td>\n",
       "      <td>0.000000</td>\n",
       "    </tr>\n",
       "    <tr>\n",
       "      <th>3</th>\n",
       "      <td>Lansing</td>\n",
       "      <td>-84.555380</td>\n",
       "      <td>6246.804384</td>\n",
       "      <td>48.608459</td>\n",
       "      <td>48.594050</td>\n",
       "      <td>0.164871</td>\n",
       "    </tr>\n",
       "    <tr>\n",
       "      <th>4</th>\n",
       "      <td>Ankara</td>\n",
       "      <td>32.854067</td>\n",
       "      <td>4854.033455</td>\n",
       "      <td>51.564357</td>\n",
       "      <td>51.520532</td>\n",
       "      <td>0.000000</td>\n",
       "    </tr>\n",
       "  </tbody>\n",
       "</table>\n",
       "</div>"
      ],
      "text/plain": [
       "              City  Longitude  dist_from_north  days_rolling_mean  \\\n",
       "0          Algiers   3.060188      5681.128030          64.486704   \n",
       "1  Bombay (Mumbai)  72.835335      6866.138885          82.124008   \n",
       "2  Dallas Ft Worth -97.232572      7403.248687          67.120178   \n",
       "3          Lansing -84.555380      6246.804384          48.608459   \n",
       "4           Ankara  32.854067      4854.033455          51.564357   \n",
       "\n",
       "   years_rolling_mean  is_neg_percent  \n",
       "0           64.463481        0.000000  \n",
       "1           82.120903        0.000000  \n",
       "2           67.116506        0.000000  \n",
       "3           48.594050        0.164871  \n",
       "4           51.520532        0.000000  "
      ]
     },
     "execution_count": 80,
     "metadata": {},
     "output_type": "execute_result"
    }
   ],
   "source": [
    "city_agg.head()"
   ]
  },
  {
   "cell_type": "code",
   "execution_count": 81,
   "metadata": {},
   "outputs": [
    {
     "data": {
      "text/html": [
       "<div>\n",
       "<style scoped>\n",
       "    .dataframe tbody tr th:only-of-type {\n",
       "        vertical-align: middle;\n",
       "    }\n",
       "\n",
       "    .dataframe tbody tr th {\n",
       "        vertical-align: top;\n",
       "    }\n",
       "\n",
       "    .dataframe thead th {\n",
       "        text-align: right;\n",
       "    }\n",
       "</style>\n",
       "<table border=\"1\" class=\"dataframe\">\n",
       "  <thead>\n",
       "    <tr style=\"text-align: right;\">\n",
       "      <th></th>\n",
       "      <th>City</th>\n",
       "      <th>Year</th>\n",
       "      <th>Month</th>\n",
       "      <th>Day</th>\n",
       "      <th>AvgTemperature</th>\n",
       "    </tr>\n",
       "  </thead>\n",
       "  <tbody>\n",
       "    <tr>\n",
       "      <th>0</th>\n",
       "      <td>Algiers</td>\n",
       "      <td>1995</td>\n",
       "      <td>1</td>\n",
       "      <td>1</td>\n",
       "      <td>64.2</td>\n",
       "    </tr>\n",
       "    <tr>\n",
       "      <th>1</th>\n",
       "      <td>Bombay (Mumbai)</td>\n",
       "      <td>1995</td>\n",
       "      <td>1</td>\n",
       "      <td>1</td>\n",
       "      <td>71.8</td>\n",
       "    </tr>\n",
       "    <tr>\n",
       "      <th>2</th>\n",
       "      <td>Dallas Ft Worth</td>\n",
       "      <td>1995</td>\n",
       "      <td>1</td>\n",
       "      <td>1</td>\n",
       "      <td>40.5</td>\n",
       "    </tr>\n",
       "    <tr>\n",
       "      <th>3</th>\n",
       "      <td>Lansing</td>\n",
       "      <td>1995</td>\n",
       "      <td>1</td>\n",
       "      <td>1</td>\n",
       "      <td>30.2</td>\n",
       "    </tr>\n",
       "    <tr>\n",
       "      <th>4</th>\n",
       "      <td>Ankara</td>\n",
       "      <td>1995</td>\n",
       "      <td>1</td>\n",
       "      <td>1</td>\n",
       "      <td>46.2</td>\n",
       "    </tr>\n",
       "  </tbody>\n",
       "</table>\n",
       "</div>"
      ],
      "text/plain": [
       "              City  Year  Month  Day  AvgTemperature\n",
       "0          Algiers  1995      1    1            64.2\n",
       "1  Bombay (Mumbai)  1995      1    1            71.8\n",
       "2  Dallas Ft Worth  1995      1    1            40.5\n",
       "3          Lansing  1995      1    1            30.2\n",
       "4           Ankara  1995      1    1            46.2"
      ]
     },
     "execution_count": 81,
     "metadata": {},
     "output_type": "execute_result"
    }
   ],
   "source": [
    "ymd_agg.head()"
   ]
  },
  {
   "cell_type": "code",
   "execution_count": 82,
   "metadata": {},
   "outputs": [
    {
     "data": {
      "text/html": [
       "<div>\n",
       "<style scoped>\n",
       "    .dataframe tbody tr th:only-of-type {\n",
       "        vertical-align: middle;\n",
       "    }\n",
       "\n",
       "    .dataframe tbody tr th {\n",
       "        vertical-align: top;\n",
       "    }\n",
       "\n",
       "    .dataframe thead th {\n",
       "        text-align: right;\n",
       "    }\n",
       "</style>\n",
       "<table border=\"1\" class=\"dataframe\">\n",
       "  <thead>\n",
       "    <tr style=\"text-align: right;\">\n",
       "      <th></th>\n",
       "      <th>City</th>\n",
       "      <th>Season</th>\n",
       "      <th>city_season_mean</th>\n",
       "    </tr>\n",
       "  </thead>\n",
       "  <tbody>\n",
       "    <tr>\n",
       "      <th>0</th>\n",
       "      <td>Corpus Christi</td>\n",
       "      <td>2</td>\n",
       "      <td>72.444014</td>\n",
       "    </tr>\n",
       "    <tr>\n",
       "      <th>1</th>\n",
       "      <td>Honolulu</td>\n",
       "      <td>1</td>\n",
       "      <td>74.056114</td>\n",
       "    </tr>\n",
       "    <tr>\n",
       "      <th>2</th>\n",
       "      <td>Montreal</td>\n",
       "      <td>1</td>\n",
       "      <td>19.952665</td>\n",
       "    </tr>\n",
       "    <tr>\n",
       "      <th>3</th>\n",
       "      <td>Dusanbe</td>\n",
       "      <td>4</td>\n",
       "      <td>60.870976</td>\n",
       "    </tr>\n",
       "    <tr>\n",
       "      <th>4</th>\n",
       "      <td>Riga</td>\n",
       "      <td>4</td>\n",
       "      <td>45.842952</td>\n",
       "    </tr>\n",
       "  </tbody>\n",
       "</table>\n",
       "</div>"
      ],
      "text/plain": [
       "             City  Season  city_season_mean\n",
       "0  Corpus Christi       2         72.444014\n",
       "1        Honolulu       1         74.056114\n",
       "2        Montreal       1         19.952665\n",
       "3         Dusanbe       4         60.870976\n",
       "4            Riga       4         45.842952"
      ]
     },
     "execution_count": 82,
     "metadata": {},
     "output_type": "execute_result"
    }
   ],
   "source": [
    "city_season_agg.head()"
   ]
  },
  {
   "cell_type": "code",
   "execution_count": 85,
   "metadata": {},
   "outputs": [
    {
     "data": {
      "text/html": [
       "<div>\n",
       "<style scoped>\n",
       "    .dataframe tbody tr th:only-of-type {\n",
       "        vertical-align: middle;\n",
       "    }\n",
       "\n",
       "    .dataframe tbody tr th {\n",
       "        vertical-align: top;\n",
       "    }\n",
       "\n",
       "    .dataframe thead th {\n",
       "        text-align: right;\n",
       "    }\n",
       "</style>\n",
       "<table border=\"1\" class=\"dataframe\">\n",
       "  <thead>\n",
       "    <tr style=\"text-align: right;\">\n",
       "      <th></th>\n",
       "      <th>City</th>\n",
       "      <th>Month</th>\n",
       "      <th>city_month_mean</th>\n",
       "    </tr>\n",
       "  </thead>\n",
       "  <tbody>\n",
       "    <tr>\n",
       "      <th>0</th>\n",
       "      <td>Corpus Christi</td>\n",
       "      <td>2</td>\n",
       "      <td>61.210765</td>\n",
       "    </tr>\n",
       "    <tr>\n",
       "      <th>1</th>\n",
       "      <td>Dallas Ft Worth</td>\n",
       "      <td>7</td>\n",
       "      <td>86.090710</td>\n",
       "    </tr>\n",
       "    <tr>\n",
       "      <th>2</th>\n",
       "      <td>Honolulu</td>\n",
       "      <td>1</td>\n",
       "      <td>73.563307</td>\n",
       "    </tr>\n",
       "    <tr>\n",
       "      <th>3</th>\n",
       "      <td>Wilmington</td>\n",
       "      <td>9</td>\n",
       "      <td>68.390566</td>\n",
       "    </tr>\n",
       "    <tr>\n",
       "      <th>4</th>\n",
       "      <td>Salt Lake City</td>\n",
       "      <td>7</td>\n",
       "      <td>81.112258</td>\n",
       "    </tr>\n",
       "  </tbody>\n",
       "</table>\n",
       "</div>"
      ],
      "text/plain": [
       "              City  Month  city_month_mean\n",
       "0   Corpus Christi      2        61.210765\n",
       "1  Dallas Ft Worth      7        86.090710\n",
       "2         Honolulu      1        73.563307\n",
       "3       Wilmington      9        68.390566\n",
       "4   Salt Lake City      7        81.112258"
      ]
     },
     "execution_count": 85,
     "metadata": {},
     "output_type": "execute_result"
    }
   ],
   "source": [
    "city_month_agg.head()"
   ]
  },
  {
   "cell_type": "code",
   "execution_count": 86,
   "metadata": {},
   "outputs": [],
   "source": [
    "city_agg.to_csv(r'C:\\Users\\Venom\\Desktop\\694560_1215964_bundle_archive\\agg\\city_agg.csv',index=False)\n",
    "ymd_agg.to_csv(r'C:\\Users\\Venom\\Desktop\\694560_1215964_bundle_archive\\agg\\ymd_agg.csv',index=False)\n",
    "city_month_agg.to_csv(r'C:\\Users\\Venom\\Desktop\\694560_1215964_bundle_archive\\agg\\city_month_agg.csv',index=False)\n",
    "city_season_agg.to_csv(r'C:\\Users\\Venom\\Desktop\\694560_1215964_bundle_archive\\agg\\city_season_agg.csv',index=False)"
   ]
  },
  {
   "cell_type": "code",
   "execution_count": null,
   "metadata": {},
   "outputs": [],
   "source": []
  }
 ],
 "metadata": {
  "kernelspec": {
   "display_name": "Python 3",
   "language": "python",
   "name": "python3"
  },
  "language_info": {
   "codemirror_mode": {
    "name": "ipython",
    "version": 3
   },
   "file_extension": ".py",
   "mimetype": "text/x-python",
   "name": "python",
   "nbconvert_exporter": "python",
   "pygments_lexer": "ipython3",
   "version": "3.7.3"
  }
 },
 "nbformat": 4,
 "nbformat_minor": 2
}
