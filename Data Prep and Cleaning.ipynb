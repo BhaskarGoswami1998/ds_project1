{
 "cells": [
  {
   "cell_type": "code",
   "execution_count": 16,
   "metadata": {},
   "outputs": [],
   "source": [
    "import pandas as pd\n",
    "import numpy as np\n",
    "import seaborn as sns\n",
    "import matplotlib.pyplot as plt\n",
    "import math"
   ]
  },
  {
   "cell_type": "code",
   "execution_count": 17,
   "metadata": {},
   "outputs": [
    {
     "name": "stderr",
     "output_type": "stream",
     "text": [
      "D:\\AnacondaNavigator\\lib\\site-packages\\IPython\\core\\interactiveshell.py:3057: DtypeWarning: Columns (2) have mixed types.Specify dtype option on import or set low_memory=False.\n",
      "  interactivity=interactivity, compiler=compiler, result=result)\n"
     ]
    }
   ],
   "source": [
    "df = pd.read_csv(r'C:/Users/Venom/Desktop/694560_1215964_bundle_archive/city_temperature.csv')"
   ]
  },
  {
   "cell_type": "markdown",
   "metadata": {},
   "source": [
    "#### Dropping duplicate rows"
   ]
  },
  {
   "cell_type": "code",
   "execution_count": 18,
   "metadata": {},
   "outputs": [],
   "source": [
    "df.drop_duplicates(inplace=True)"
   ]
  },
  {
   "cell_type": "markdown",
   "metadata": {},
   "source": [
    "#### Removing 2020 data as it is fairly recent and may contain imputed data"
   ]
  },
  {
   "cell_type": "code",
   "execution_count": 19,
   "metadata": {},
   "outputs": [
    {
     "data": {
      "text/plain": [
       "(2847070, 8)"
      ]
     },
     "execution_count": 19,
     "metadata": {},
     "output_type": "execute_result"
    }
   ],
   "source": [
    "df = df[df.Year!=2020]\n",
    "df.shape"
   ]
  },
  {
   "cell_type": "markdown",
   "metadata": {},
   "source": [
    "#### Removing outliers,i.e., data below -50 average temperature"
   ]
  },
  {
   "cell_type": "code",
   "execution_count": 20,
   "metadata": {},
   "outputs": [],
   "source": [
    "df = df[df.AvgTemperature>=-50]"
   ]
  },
  {
   "cell_type": "code",
   "execution_count": 21,
   "metadata": {},
   "outputs": [],
   "source": [
    "city_data = pd.read_csv(r'C:/Users/Venom/Desktop/694560_1215964_bundle_archive/city_data.csv')"
   ]
  },
  {
   "cell_type": "code",
   "execution_count": 22,
   "metadata": {},
   "outputs": [
    {
     "data": {
      "text/html": [
       "<div>\n",
       "<style scoped>\n",
       "    .dataframe tbody tr th:only-of-type {\n",
       "        vertical-align: middle;\n",
       "    }\n",
       "\n",
       "    .dataframe tbody tr th {\n",
       "        vertical-align: top;\n",
       "    }\n",
       "\n",
       "    .dataframe thead th {\n",
       "        text-align: right;\n",
       "    }\n",
       "</style>\n",
       "<table border=\"1\" class=\"dataframe\">\n",
       "  <thead>\n",
       "    <tr style=\"text-align: right;\">\n",
       "      <th></th>\n",
       "      <th>Region</th>\n",
       "      <th>Country</th>\n",
       "      <th>State</th>\n",
       "      <th>City</th>\n",
       "      <th>Month</th>\n",
       "      <th>Day</th>\n",
       "      <th>Year</th>\n",
       "      <th>AvgTemperature</th>\n",
       "    </tr>\n",
       "  </thead>\n",
       "  <tbody>\n",
       "    <tr>\n",
       "      <th>0</th>\n",
       "      <td>Africa</td>\n",
       "      <td>Algeria</td>\n",
       "      <td>NaN</td>\n",
       "      <td>Algiers</td>\n",
       "      <td>1</td>\n",
       "      <td>1</td>\n",
       "      <td>1995</td>\n",
       "      <td>64.2</td>\n",
       "    </tr>\n",
       "    <tr>\n",
       "      <th>1</th>\n",
       "      <td>Africa</td>\n",
       "      <td>Algeria</td>\n",
       "      <td>NaN</td>\n",
       "      <td>Algiers</td>\n",
       "      <td>1</td>\n",
       "      <td>2</td>\n",
       "      <td>1995</td>\n",
       "      <td>49.4</td>\n",
       "    </tr>\n",
       "    <tr>\n",
       "      <th>2</th>\n",
       "      <td>Africa</td>\n",
       "      <td>Algeria</td>\n",
       "      <td>NaN</td>\n",
       "      <td>Algiers</td>\n",
       "      <td>1</td>\n",
       "      <td>3</td>\n",
       "      <td>1995</td>\n",
       "      <td>48.8</td>\n",
       "    </tr>\n",
       "    <tr>\n",
       "      <th>3</th>\n",
       "      <td>Africa</td>\n",
       "      <td>Algeria</td>\n",
       "      <td>NaN</td>\n",
       "      <td>Algiers</td>\n",
       "      <td>1</td>\n",
       "      <td>4</td>\n",
       "      <td>1995</td>\n",
       "      <td>46.4</td>\n",
       "    </tr>\n",
       "    <tr>\n",
       "      <th>4</th>\n",
       "      <td>Africa</td>\n",
       "      <td>Algeria</td>\n",
       "      <td>NaN</td>\n",
       "      <td>Algiers</td>\n",
       "      <td>1</td>\n",
       "      <td>5</td>\n",
       "      <td>1995</td>\n",
       "      <td>47.9</td>\n",
       "    </tr>\n",
       "  </tbody>\n",
       "</table>\n",
       "</div>"
      ],
      "text/plain": [
       "   Region  Country State     City  Month  Day  Year  AvgTemperature\n",
       "0  Africa  Algeria   NaN  Algiers      1    1  1995            64.2\n",
       "1  Africa  Algeria   NaN  Algiers      1    2  1995            49.4\n",
       "2  Africa  Algeria   NaN  Algiers      1    3  1995            48.8\n",
       "3  Africa  Algeria   NaN  Algiers      1    4  1995            46.4\n",
       "4  Africa  Algeria   NaN  Algiers      1    5  1995            47.9"
      ]
     },
     "execution_count": 22,
     "metadata": {},
     "output_type": "execute_result"
    }
   ],
   "source": [
    "df.head()"
   ]
  },
  {
   "cell_type": "code",
   "execution_count": 23,
   "metadata": {},
   "outputs": [
    {
     "data": {
      "text/html": [
       "<div>\n",
       "<style scoped>\n",
       "    .dataframe tbody tr th:only-of-type {\n",
       "        vertical-align: middle;\n",
       "    }\n",
       "\n",
       "    .dataframe tbody tr th {\n",
       "        vertical-align: top;\n",
       "    }\n",
       "\n",
       "    .dataframe thead th {\n",
       "        text-align: right;\n",
       "    }\n",
       "</style>\n",
       "<table border=\"1\" class=\"dataframe\">\n",
       "  <thead>\n",
       "    <tr style=\"text-align: right;\">\n",
       "      <th></th>\n",
       "      <th>City</th>\n",
       "      <th>Latitude</th>\n",
       "      <th>Longitude</th>\n",
       "      <th>dist_from_north</th>\n",
       "      <th>dist_from_south</th>\n",
       "    </tr>\n",
       "  </thead>\n",
       "  <tbody>\n",
       "    <tr>\n",
       "      <th>0</th>\n",
       "      <td>Algiers</td>\n",
       "      <td>36.775361</td>\n",
       "      <td>3.060188</td>\n",
       "      <td>5681.128030</td>\n",
       "      <td>14295.190776</td>\n",
       "    </tr>\n",
       "    <tr>\n",
       "      <th>1</th>\n",
       "      <td>Bujumbura</td>\n",
       "      <td>-3.363812</td>\n",
       "      <td>29.367503</td>\n",
       "      <td>9673.430194</td>\n",
       "      <td>9425.151458</td>\n",
       "    </tr>\n",
       "    <tr>\n",
       "      <th>2</th>\n",
       "      <td>Cotonou</td>\n",
       "      <td>6.367695</td>\n",
       "      <td>2.425251</td>\n",
       "      <td>9023.170127</td>\n",
       "      <td>10976.304273</td>\n",
       "    </tr>\n",
       "    <tr>\n",
       "      <th>3</th>\n",
       "      <td>Bangui</td>\n",
       "      <td>4.390715</td>\n",
       "      <td>18.550913</td>\n",
       "      <td>8973.498059</td>\n",
       "      <td>10470.325176</td>\n",
       "    </tr>\n",
       "    <tr>\n",
       "      <th>4</th>\n",
       "      <td>Brazzaville</td>\n",
       "      <td>-4.269441</td>\n",
       "      <td>15.271226</td>\n",
       "      <td>9978.395930</td>\n",
       "      <td>9579.121495</td>\n",
       "    </tr>\n",
       "  </tbody>\n",
       "</table>\n",
       "</div>"
      ],
      "text/plain": [
       "          City   Latitude  Longitude  dist_from_north  dist_from_south\n",
       "0      Algiers  36.775361   3.060188      5681.128030     14295.190776\n",
       "1    Bujumbura  -3.363812  29.367503      9673.430194      9425.151458\n",
       "2      Cotonou   6.367695   2.425251      9023.170127     10976.304273\n",
       "3       Bangui   4.390715  18.550913      8973.498059     10470.325176\n",
       "4  Brazzaville  -4.269441  15.271226      9978.395930      9579.121495"
      ]
     },
     "execution_count": 23,
     "metadata": {},
     "output_type": "execute_result"
    }
   ],
   "source": [
    "city_data.head()"
   ]
  },
  {
   "cell_type": "code",
   "execution_count": 24,
   "metadata": {},
   "outputs": [],
   "source": [
    "df = pd.merge(df,city_data,on='City')"
   ]
  },
  {
   "cell_type": "code",
   "execution_count": 25,
   "metadata": {},
   "outputs": [
    {
     "data": {
      "text/html": [
       "<div>\n",
       "<style scoped>\n",
       "    .dataframe tbody tr th:only-of-type {\n",
       "        vertical-align: middle;\n",
       "    }\n",
       "\n",
       "    .dataframe tbody tr th {\n",
       "        vertical-align: top;\n",
       "    }\n",
       "\n",
       "    .dataframe thead th {\n",
       "        text-align: right;\n",
       "    }\n",
       "</style>\n",
       "<table border=\"1\" class=\"dataframe\">\n",
       "  <thead>\n",
       "    <tr style=\"text-align: right;\">\n",
       "      <th></th>\n",
       "      <th>Region</th>\n",
       "      <th>Country</th>\n",
       "      <th>State</th>\n",
       "      <th>City</th>\n",
       "      <th>Month</th>\n",
       "      <th>Day</th>\n",
       "      <th>Year</th>\n",
       "      <th>AvgTemperature</th>\n",
       "      <th>Latitude</th>\n",
       "      <th>Longitude</th>\n",
       "      <th>dist_from_north</th>\n",
       "      <th>dist_from_south</th>\n",
       "    </tr>\n",
       "  </thead>\n",
       "  <tbody>\n",
       "    <tr>\n",
       "      <th>0</th>\n",
       "      <td>Africa</td>\n",
       "      <td>Algeria</td>\n",
       "      <td>NaN</td>\n",
       "      <td>Algiers</td>\n",
       "      <td>1</td>\n",
       "      <td>1</td>\n",
       "      <td>1995</td>\n",
       "      <td>64.2</td>\n",
       "      <td>36.775361</td>\n",
       "      <td>3.060188</td>\n",
       "      <td>5681.12803</td>\n",
       "      <td>14295.190776</td>\n",
       "    </tr>\n",
       "    <tr>\n",
       "      <th>1</th>\n",
       "      <td>Africa</td>\n",
       "      <td>Algeria</td>\n",
       "      <td>NaN</td>\n",
       "      <td>Algiers</td>\n",
       "      <td>1</td>\n",
       "      <td>2</td>\n",
       "      <td>1995</td>\n",
       "      <td>49.4</td>\n",
       "      <td>36.775361</td>\n",
       "      <td>3.060188</td>\n",
       "      <td>5681.12803</td>\n",
       "      <td>14295.190776</td>\n",
       "    </tr>\n",
       "    <tr>\n",
       "      <th>2</th>\n",
       "      <td>Africa</td>\n",
       "      <td>Algeria</td>\n",
       "      <td>NaN</td>\n",
       "      <td>Algiers</td>\n",
       "      <td>1</td>\n",
       "      <td>3</td>\n",
       "      <td>1995</td>\n",
       "      <td>48.8</td>\n",
       "      <td>36.775361</td>\n",
       "      <td>3.060188</td>\n",
       "      <td>5681.12803</td>\n",
       "      <td>14295.190776</td>\n",
       "    </tr>\n",
       "    <tr>\n",
       "      <th>3</th>\n",
       "      <td>Africa</td>\n",
       "      <td>Algeria</td>\n",
       "      <td>NaN</td>\n",
       "      <td>Algiers</td>\n",
       "      <td>1</td>\n",
       "      <td>4</td>\n",
       "      <td>1995</td>\n",
       "      <td>46.4</td>\n",
       "      <td>36.775361</td>\n",
       "      <td>3.060188</td>\n",
       "      <td>5681.12803</td>\n",
       "      <td>14295.190776</td>\n",
       "    </tr>\n",
       "    <tr>\n",
       "      <th>4</th>\n",
       "      <td>Africa</td>\n",
       "      <td>Algeria</td>\n",
       "      <td>NaN</td>\n",
       "      <td>Algiers</td>\n",
       "      <td>1</td>\n",
       "      <td>5</td>\n",
       "      <td>1995</td>\n",
       "      <td>47.9</td>\n",
       "      <td>36.775361</td>\n",
       "      <td>3.060188</td>\n",
       "      <td>5681.12803</td>\n",
       "      <td>14295.190776</td>\n",
       "    </tr>\n",
       "  </tbody>\n",
       "</table>\n",
       "</div>"
      ],
      "text/plain": [
       "   Region  Country State     City  Month  Day  Year  AvgTemperature  \\\n",
       "0  Africa  Algeria   NaN  Algiers      1    1  1995            64.2   \n",
       "1  Africa  Algeria   NaN  Algiers      1    2  1995            49.4   \n",
       "2  Africa  Algeria   NaN  Algiers      1    3  1995            48.8   \n",
       "3  Africa  Algeria   NaN  Algiers      1    4  1995            46.4   \n",
       "4  Africa  Algeria   NaN  Algiers      1    5  1995            47.9   \n",
       "\n",
       "    Latitude  Longitude  dist_from_north  dist_from_south  \n",
       "0  36.775361   3.060188       5681.12803     14295.190776  \n",
       "1  36.775361   3.060188       5681.12803     14295.190776  \n",
       "2  36.775361   3.060188       5681.12803     14295.190776  \n",
       "3  36.775361   3.060188       5681.12803     14295.190776  \n",
       "4  36.775361   3.060188       5681.12803     14295.190776  "
      ]
     },
     "execution_count": 25,
     "metadata": {},
     "output_type": "execute_result"
    }
   ],
   "source": [
    "df.head()"
   ]
  },
  {
   "cell_type": "code",
   "execution_count": 26,
   "metadata": {},
   "outputs": [],
   "source": [
    "df.drop('State',axis = 1, inplace=True)"
   ]
  },
  {
   "cell_type": "code",
   "execution_count": 27,
   "metadata": {},
   "outputs": [],
   "source": [
    "df.dropna(inplace=True,axis = 0) #drop rows having null values as they are 0.32% in volume"
   ]
  },
  {
   "cell_type": "code",
   "execution_count": 28,
   "metadata": {},
   "outputs": [
    {
     "data": {
      "text/plain": [
       "(2758800, 11)"
      ]
     },
     "execution_count": 28,
     "metadata": {},
     "output_type": "execute_result"
    }
   ],
   "source": [
    "df.shape"
   ]
  },
  {
   "cell_type": "markdown",
   "metadata": {},
   "source": [
    "#### No null values left"
   ]
  },
  {
   "cell_type": "code",
   "execution_count": 29,
   "metadata": {},
   "outputs": [
    {
     "data": {
      "text/plain": [
       "<matplotlib.axes._subplots.AxesSubplot at 0x217508bfeb8>"
      ]
     },
     "execution_count": 29,
     "metadata": {},
     "output_type": "execute_result"
    },
    {
     "data": {
      "image/png": "[encoded data removed]",
      "text/plain": [
       "<Figure size 432x288 with 2 Axes>"
      ]
     },
     "metadata": {
      "needs_background": "light"
     },
     "output_type": "display_data"
    }
   ],
   "source": [
    "sns.heatmap(df.isna())"
   ]
  },
  {
   "cell_type": "code",
   "execution_count": null,
   "metadata": {},
   "outputs": [],
   "source": [
    "df['Day']=df['Day'].astype(str)\n",
    "df['Month']=df['Month'].astype(str)\n",
    "df['Year']=df['Year'].astype(str)\n",
    "df['Date']=df['Day'].astype(str)+'/'+df['Month'].astype(str)+'/'+df['Year'].astype(str)\n",
    "df['Date']=pd.to_datetime(df['Date'])"
   ]
  },
  {
   "cell_type": "code",
   "execution_count": null,
   "metadata": {},
   "outputs": [],
   "source": [
    "df.sort_values(by = 'Date',ascending = True,inplace = True)"
   ]
  },
  {
   "cell_type": "code",
   "execution_count": null,
   "metadata": {},
   "outputs": [],
   "source": [
    "df.head()"
   ]
  },
  {
   "cell_type": "code",
   "execution_count": null,
   "metadata": {},
   "outputs": [],
   "source": [
    "df.nunique()"
   ]
  },
  {
   "cell_type": "code",
   "execution_count": null,
   "metadata": {},
   "outputs": [],
   "source": [
    "df.describe()"
   ]
  },
  {
   "cell_type": "code",
   "execution_count": null,
   "metadata": {},
   "outputs": [],
   "source": [
    "df.to_csv(r'C:/Users/Venom/Desktop/694560_1215964_bundle_archive/preprocessed_data.csv',index=False)"
   ]
  },
  {
   "cell_type": "code",
   "execution_count": null,
   "metadata": {},
   "outputs": [],
   "source": []
  }
 ],
 "metadata": {
  "kernelspec": {
   "display_name": "Python 3",
   "language": "python",
   "name": "python3"
  },
  "language_info": {
   "codemirror_mode": {
    "name": "ipython",
    "version": 3
   },
   "file_extension": ".py",
   "mimetype": "text/x-python",
   "name": "python",
   "nbconvert_exporter": "python",
   "pygments_lexer": "ipython3",
   "version": "3.7.3"
  }
 },
 "nbformat": 4,
 "nbformat_minor": 2
}
